{
 "cells": [
  {
   "cell_type": "code",
   "execution_count": 1,
   "id": "b6306144",
   "metadata": {},
   "outputs": [],
   "source": [
    "# Importing the libraries \n",
    "\n",
    "import numpy as np\n",
    "import matplotlib.pyplot as plt\n",
    "import matplotlib.image as mpimg\n",
    "import pandas as pd\n",
    "# Importing libraries\n",
    "import pandas as pd\n",
    "import numpy as np\n",
    "import seaborn as sns\n",
    "import matplotlib\n",
    "import matplotlib.pyplot as plt #visualisation\n",
    "%matplotlib inline\n",
    "sns.set(color_codes=True) \n",
    "# Load the libraries\n",
    "import numpy as np \n",
    "import pandas as pd \n",
    "import seaborn as sns\n",
    "import missingno as msno\n",
    "import re\n",
    "from matplotlib import pyplot as plt\n",
    "import matplotlib.pyplot as plt\n",
    "from warnings import filterwarnings\n",
    "filterwarnings('ignore')\n",
    "\n",
    "\n",
    "from scipy.stats.mstats import winsorize\n",
    "import scipy.stats as stats\n"
   ]
  },
  {
   "cell_type": "markdown",
   "id": "c9cb73bd",
   "metadata": {},
   "source": [
    "ids: идентификатор твита (например, 4587) \n",
    "date: дата твита (например, сб, 16 мая, 23:58:44 UTC 2009 г.)\n",
    "флаг: запрос (например, lyx). Если запроса нет, то это значение равно NO_QUERY.\n",
    "пользователь: пользователь, который написал твит (например, bobthebuilder)\n",
    "текст: текст твита (например, Ликс классная)"
   ]
  },
  {
   "cell_type": "code",
   "execution_count": 2,
   "id": "b12ed70f",
   "metadata": {},
   "outputs": [
    {
     "data": {
      "text/html": [
       "<div>\n",
       "<style scoped>\n",
       "    .dataframe tbody tr th:only-of-type {\n",
       "        vertical-align: middle;\n",
       "    }\n",
       "\n",
       "    .dataframe tbody tr th {\n",
       "        vertical-align: top;\n",
       "    }\n",
       "\n",
       "    .dataframe thead th {\n",
       "        text-align: right;\n",
       "    }\n",
       "</style>\n",
       "<table border=\"1\" class=\"dataframe\">\n",
       "  <thead>\n",
       "    <tr style=\"text-align: right;\">\n",
       "      <th></th>\n",
       "      <th>0</th>\n",
       "      <th>1467810369</th>\n",
       "      <th>Mon Apr 06 22:19:45 PDT 2009</th>\n",
       "      <th>NO_QUERY</th>\n",
       "      <th>_TheSpecialOne_</th>\n",
       "      <th>@switchfoot http://twitpic.com/2y1zl - Awww, that's a bummer.  You shoulda got David Carr of Third Day to do it. ;D</th>\n",
       "    </tr>\n",
       "  </thead>\n",
       "  <tbody>\n",
       "    <tr>\n",
       "      <th>0</th>\n",
       "      <td>1</td>\n",
       "      <td>1467810672</td>\n",
       "      <td>Mon Apr 06 22:19:49 PDT 2009</td>\n",
       "      <td>NO_QUERY</td>\n",
       "      <td>scotthamilton</td>\n",
       "      <td>is upset that he can't update his Facebook by ...</td>\n",
       "    </tr>\n",
       "    <tr>\n",
       "      <th>1</th>\n",
       "      <td>2</td>\n",
       "      <td>1467810917</td>\n",
       "      <td>Mon Apr 06 22:19:53 PDT 2009</td>\n",
       "      <td>NO_QUERY</td>\n",
       "      <td>mattycus</td>\n",
       "      <td>@Kenichan I dived many times for the ball. Man...</td>\n",
       "    </tr>\n",
       "    <tr>\n",
       "      <th>2</th>\n",
       "      <td>3</td>\n",
       "      <td>1467811184</td>\n",
       "      <td>Mon Apr 06 22:19:57 PDT 2009</td>\n",
       "      <td>NO_QUERY</td>\n",
       "      <td>ElleCTF</td>\n",
       "      <td>my whole body feels itchy and like its on fire</td>\n",
       "    </tr>\n",
       "    <tr>\n",
       "      <th>3</th>\n",
       "      <td>4</td>\n",
       "      <td>1467811193</td>\n",
       "      <td>Mon Apr 06 22:19:57 PDT 2009</td>\n",
       "      <td>NO_QUERY</td>\n",
       "      <td>Karoli</td>\n",
       "      <td>@nationwideclass no, it's not behaving at all....</td>\n",
       "    </tr>\n",
       "    <tr>\n",
       "      <th>4</th>\n",
       "      <td>5</td>\n",
       "      <td>1467811372</td>\n",
       "      <td>Mon Apr 06 22:20:00 PDT 2009</td>\n",
       "      <td>NO_QUERY</td>\n",
       "      <td>joy_wolf</td>\n",
       "      <td>@Kwesidei not the whole crew</td>\n",
       "    </tr>\n",
       "  </tbody>\n",
       "</table>\n",
       "</div>"
      ],
      "text/plain": [
       "   0  1467810369  Mon Apr 06 22:19:45 PDT 2009  NO_QUERY _TheSpecialOne_   \n",
       "0  1  1467810672  Mon Apr 06 22:19:49 PDT 2009  NO_QUERY   scotthamilton  \\\n",
       "1  2  1467810917  Mon Apr 06 22:19:53 PDT 2009  NO_QUERY        mattycus   \n",
       "2  3  1467811184  Mon Apr 06 22:19:57 PDT 2009  NO_QUERY         ElleCTF   \n",
       "3  4  1467811193  Mon Apr 06 22:19:57 PDT 2009  NO_QUERY          Karoli   \n",
       "4  5  1467811372  Mon Apr 06 22:20:00 PDT 2009  NO_QUERY        joy_wolf   \n",
       "\n",
       "  @switchfoot http://twitpic.com/2y1zl - Awww, that's a bummer.  You shoulda got David Carr of Third Day to do it. ;D  \n",
       "0  is upset that he can't update his Facebook by ...                                                                   \n",
       "1  @Kenichan I dived many times for the ball. Man...                                                                   \n",
       "2    my whole body feels itchy and like its on fire                                                                    \n",
       "3  @nationwideclass no, it's not behaving at all....                                                                   \n",
       "4                      @Kwesidei not the whole crew                                                                    "
      ]
     },
     "execution_count": 2,
     "metadata": {},
     "output_type": "execute_result"
    }
   ],
   "source": [
    "df = pd.read_csv('ProjectTweets.csv')\n",
    "# looking at the dataset\n",
    "df.head()"
   ]
  },
  {
   "cell_type": "code",
   "execution_count": 3,
   "id": "a9aa4360",
   "metadata": {},
   "outputs": [],
   "source": [
    "df.rename(columns={'0': 'number','1467810369':'id','Mon Apr 06 22:19:45 PDT 2009': 'date','NO_QUERY': 'flag','_TheSpecialOne_': 'user' }, inplace=True)\n",
    "\n"
   ]
  },
  {
   "cell_type": "code",
   "execution_count": 4,
   "id": "2502a532",
   "metadata": {},
   "outputs": [
    {
     "data": {
      "text/html": [
       "<div>\n",
       "<style scoped>\n",
       "    .dataframe tbody tr th:only-of-type {\n",
       "        vertical-align: middle;\n",
       "    }\n",
       "\n",
       "    .dataframe tbody tr th {\n",
       "        vertical-align: top;\n",
       "    }\n",
       "\n",
       "    .dataframe thead th {\n",
       "        text-align: right;\n",
       "    }\n",
       "</style>\n",
       "<table border=\"1\" class=\"dataframe\">\n",
       "  <thead>\n",
       "    <tr style=\"text-align: right;\">\n",
       "      <th></th>\n",
       "      <th>number</th>\n",
       "      <th>id</th>\n",
       "      <th>date</th>\n",
       "      <th>flag</th>\n",
       "      <th>user</th>\n",
       "      <th>@switchfoot http://twitpic.com/2y1zl - Awww, that's a bummer.  You shoulda got David Carr of Third Day to do it. ;D</th>\n",
       "    </tr>\n",
       "  </thead>\n",
       "  <tbody>\n",
       "    <tr>\n",
       "      <th>0</th>\n",
       "      <td>1</td>\n",
       "      <td>1467810672</td>\n",
       "      <td>Mon Apr 06 22:19:49 PDT 2009</td>\n",
       "      <td>NO_QUERY</td>\n",
       "      <td>scotthamilton</td>\n",
       "      <td>is upset that he can't update his Facebook by ...</td>\n",
       "    </tr>\n",
       "    <tr>\n",
       "      <th>1</th>\n",
       "      <td>2</td>\n",
       "      <td>1467810917</td>\n",
       "      <td>Mon Apr 06 22:19:53 PDT 2009</td>\n",
       "      <td>NO_QUERY</td>\n",
       "      <td>mattycus</td>\n",
       "      <td>@Kenichan I dived many times for the ball. Man...</td>\n",
       "    </tr>\n",
       "    <tr>\n",
       "      <th>2</th>\n",
       "      <td>3</td>\n",
       "      <td>1467811184</td>\n",
       "      <td>Mon Apr 06 22:19:57 PDT 2009</td>\n",
       "      <td>NO_QUERY</td>\n",
       "      <td>ElleCTF</td>\n",
       "      <td>my whole body feels itchy and like its on fire</td>\n",
       "    </tr>\n",
       "    <tr>\n",
       "      <th>3</th>\n",
       "      <td>4</td>\n",
       "      <td>1467811193</td>\n",
       "      <td>Mon Apr 06 22:19:57 PDT 2009</td>\n",
       "      <td>NO_QUERY</td>\n",
       "      <td>Karoli</td>\n",
       "      <td>@nationwideclass no, it's not behaving at all....</td>\n",
       "    </tr>\n",
       "    <tr>\n",
       "      <th>4</th>\n",
       "      <td>5</td>\n",
       "      <td>1467811372</td>\n",
       "      <td>Mon Apr 06 22:20:00 PDT 2009</td>\n",
       "      <td>NO_QUERY</td>\n",
       "      <td>joy_wolf</td>\n",
       "      <td>@Kwesidei not the whole crew</td>\n",
       "    </tr>\n",
       "  </tbody>\n",
       "</table>\n",
       "</div>"
      ],
      "text/plain": [
       "   number          id                          date      flag           user   \n",
       "0       1  1467810672  Mon Apr 06 22:19:49 PDT 2009  NO_QUERY  scotthamilton  \\\n",
       "1       2  1467810917  Mon Apr 06 22:19:53 PDT 2009  NO_QUERY       mattycus   \n",
       "2       3  1467811184  Mon Apr 06 22:19:57 PDT 2009  NO_QUERY        ElleCTF   \n",
       "3       4  1467811193  Mon Apr 06 22:19:57 PDT 2009  NO_QUERY         Karoli   \n",
       "4       5  1467811372  Mon Apr 06 22:20:00 PDT 2009  NO_QUERY       joy_wolf   \n",
       "\n",
       "  @switchfoot http://twitpic.com/2y1zl - Awww, that's a bummer.  You shoulda got David Carr of Third Day to do it. ;D  \n",
       "0  is upset that he can't update his Facebook by ...                                                                   \n",
       "1  @Kenichan I dived many times for the ball. Man...                                                                   \n",
       "2    my whole body feels itchy and like its on fire                                                                    \n",
       "3  @nationwideclass no, it's not behaving at all....                                                                   \n",
       "4                      @Kwesidei not the whole crew                                                                    "
      ]
     },
     "execution_count": 4,
     "metadata": {},
     "output_type": "execute_result"
    }
   ],
   "source": [
    "df.head()"
   ]
  },
  {
   "cell_type": "code",
   "execution_count": 5,
   "id": "38acffe1",
   "metadata": {},
   "outputs": [
    {
     "data": {
      "text/html": [
       "<div>\n",
       "<style scoped>\n",
       "    .dataframe tbody tr th:only-of-type {\n",
       "        vertical-align: middle;\n",
       "    }\n",
       "\n",
       "    .dataframe tbody tr th {\n",
       "        vertical-align: top;\n",
       "    }\n",
       "\n",
       "    .dataframe thead th {\n",
       "        text-align: right;\n",
       "    }\n",
       "</style>\n",
       "<table border=\"1\" class=\"dataframe\">\n",
       "  <thead>\n",
       "    <tr style=\"text-align: right;\">\n",
       "      <th></th>\n",
       "      <th>number</th>\n",
       "      <th>id</th>\n",
       "      <th>date</th>\n",
       "      <th>flag</th>\n",
       "      <th>user</th>\n",
       "      <th>text</th>\n",
       "    </tr>\n",
       "  </thead>\n",
       "  <tbody>\n",
       "    <tr>\n",
       "      <th>0</th>\n",
       "      <td>1</td>\n",
       "      <td>1467810672</td>\n",
       "      <td>Mon Apr 06 22:19:49 PDT 2009</td>\n",
       "      <td>NO_QUERY</td>\n",
       "      <td>scotthamilton</td>\n",
       "      <td>is upset that he can't update his Facebook by ...</td>\n",
       "    </tr>\n",
       "    <tr>\n",
       "      <th>1</th>\n",
       "      <td>2</td>\n",
       "      <td>1467810917</td>\n",
       "      <td>Mon Apr 06 22:19:53 PDT 2009</td>\n",
       "      <td>NO_QUERY</td>\n",
       "      <td>mattycus</td>\n",
       "      <td>@Kenichan I dived many times for the ball. Man...</td>\n",
       "    </tr>\n",
       "    <tr>\n",
       "      <th>2</th>\n",
       "      <td>3</td>\n",
       "      <td>1467811184</td>\n",
       "      <td>Mon Apr 06 22:19:57 PDT 2009</td>\n",
       "      <td>NO_QUERY</td>\n",
       "      <td>ElleCTF</td>\n",
       "      <td>my whole body feels itchy and like its on fire</td>\n",
       "    </tr>\n",
       "    <tr>\n",
       "      <th>3</th>\n",
       "      <td>4</td>\n",
       "      <td>1467811193</td>\n",
       "      <td>Mon Apr 06 22:19:57 PDT 2009</td>\n",
       "      <td>NO_QUERY</td>\n",
       "      <td>Karoli</td>\n",
       "      <td>@nationwideclass no, it's not behaving at all....</td>\n",
       "    </tr>\n",
       "    <tr>\n",
       "      <th>4</th>\n",
       "      <td>5</td>\n",
       "      <td>1467811372</td>\n",
       "      <td>Mon Apr 06 22:20:00 PDT 2009</td>\n",
       "      <td>NO_QUERY</td>\n",
       "      <td>joy_wolf</td>\n",
       "      <td>@Kwesidei not the whole crew</td>\n",
       "    </tr>\n",
       "  </tbody>\n",
       "</table>\n",
       "</div>"
      ],
      "text/plain": [
       "   number          id                          date      flag           user   \n",
       "0       1  1467810672  Mon Apr 06 22:19:49 PDT 2009  NO_QUERY  scotthamilton  \\\n",
       "1       2  1467810917  Mon Apr 06 22:19:53 PDT 2009  NO_QUERY       mattycus   \n",
       "2       3  1467811184  Mon Apr 06 22:19:57 PDT 2009  NO_QUERY        ElleCTF   \n",
       "3       4  1467811193  Mon Apr 06 22:19:57 PDT 2009  NO_QUERY         Karoli   \n",
       "4       5  1467811372  Mon Apr 06 22:20:00 PDT 2009  NO_QUERY       joy_wolf   \n",
       "\n",
       "                                                text  \n",
       "0  is upset that he can't update his Facebook by ...  \n",
       "1  @Kenichan I dived many times for the ball. Man...  \n",
       "2    my whole body feels itchy and like its on fire   \n",
       "3  @nationwideclass no, it's not behaving at all....  \n",
       "4                      @Kwesidei not the whole crew   "
      ]
     },
     "execution_count": 5,
     "metadata": {},
     "output_type": "execute_result"
    }
   ],
   "source": [
    "new_column_name = 'text'\n",
    "df.rename(columns={df.columns[5]: new_column_name}, inplace=True)\n",
    "\n",
    "df.head()"
   ]
  },
  {
   "cell_type": "code",
   "execution_count": 6,
   "id": "25c4c31c",
   "metadata": {},
   "outputs": [
    {
     "data": {
      "text/plain": [
       "flag\n",
       "NO_QUERY    1599999\n",
       "Name: count, dtype: int64"
      ]
     },
     "execution_count": 6,
     "metadata": {},
     "output_type": "execute_result"
    }
   ],
   "source": [
    "df['flag'].value_counts()"
   ]
  },
  {
   "cell_type": "code",
   "execution_count": 7,
   "id": "fe4ba6e2",
   "metadata": {},
   "outputs": [
    {
     "data": {
      "text/html": [
       "<div>\n",
       "<style scoped>\n",
       "    .dataframe tbody tr th:only-of-type {\n",
       "        vertical-align: middle;\n",
       "    }\n",
       "\n",
       "    .dataframe tbody tr th {\n",
       "        vertical-align: top;\n",
       "    }\n",
       "\n",
       "    .dataframe thead th {\n",
       "        text-align: right;\n",
       "    }\n",
       "</style>\n",
       "<table border=\"1\" class=\"dataframe\">\n",
       "  <thead>\n",
       "    <tr style=\"text-align: right;\">\n",
       "      <th></th>\n",
       "      <th>date</th>\n",
       "      <th>user</th>\n",
       "      <th>text</th>\n",
       "    </tr>\n",
       "  </thead>\n",
       "  <tbody>\n",
       "    <tr>\n",
       "      <th>0</th>\n",
       "      <td>Mon Apr 06 22:19:49 PDT 2009</td>\n",
       "      <td>scotthamilton</td>\n",
       "      <td>is upset that he can't update his Facebook by ...</td>\n",
       "    </tr>\n",
       "    <tr>\n",
       "      <th>1</th>\n",
       "      <td>Mon Apr 06 22:19:53 PDT 2009</td>\n",
       "      <td>mattycus</td>\n",
       "      <td>@Kenichan I dived many times for the ball. Man...</td>\n",
       "    </tr>\n",
       "    <tr>\n",
       "      <th>2</th>\n",
       "      <td>Mon Apr 06 22:19:57 PDT 2009</td>\n",
       "      <td>ElleCTF</td>\n",
       "      <td>my whole body feels itchy and like its on fire</td>\n",
       "    </tr>\n",
       "    <tr>\n",
       "      <th>3</th>\n",
       "      <td>Mon Apr 06 22:19:57 PDT 2009</td>\n",
       "      <td>Karoli</td>\n",
       "      <td>@nationwideclass no, it's not behaving at all....</td>\n",
       "    </tr>\n",
       "    <tr>\n",
       "      <th>4</th>\n",
       "      <td>Mon Apr 06 22:20:00 PDT 2009</td>\n",
       "      <td>joy_wolf</td>\n",
       "      <td>@Kwesidei not the whole crew</td>\n",
       "    </tr>\n",
       "  </tbody>\n",
       "</table>\n",
       "</div>"
      ],
      "text/plain": [
       "                           date           user   \n",
       "0  Mon Apr 06 22:19:49 PDT 2009  scotthamilton  \\\n",
       "1  Mon Apr 06 22:19:53 PDT 2009       mattycus   \n",
       "2  Mon Apr 06 22:19:57 PDT 2009        ElleCTF   \n",
       "3  Mon Apr 06 22:19:57 PDT 2009         Karoli   \n",
       "4  Mon Apr 06 22:20:00 PDT 2009       joy_wolf   \n",
       "\n",
       "                                                text  \n",
       "0  is upset that he can't update his Facebook by ...  \n",
       "1  @Kenichan I dived many times for the ball. Man...  \n",
       "2    my whole body feels itchy and like its on fire   \n",
       "3  @nationwideclass no, it's not behaving at all....  \n",
       "4                      @Kwesidei not the whole crew   "
      ]
     },
     "execution_count": 7,
     "metadata": {},
     "output_type": "execute_result"
    }
   ],
   "source": [
    "df=df.drop(columns=['number','id', 'flag'])\n",
    "df.head()"
   ]
  },
  {
   "cell_type": "code",
   "execution_count": 8,
   "id": "942b8482",
   "metadata": {},
   "outputs": [
    {
     "data": {
      "text/plain": [
       "0          is upset that he can't update his facebook by ...\n",
       "1          @kenichan i dived many times for the ball. man...\n",
       "2            my whole body feels itchy and like its on fire \n",
       "3          @nationwideclass no, it's not behaving at all....\n",
       "4                              @kwesidei not the whole crew \n",
       "                                 ...                        \n",
       "1599994    just woke up. having no school is the best fee...\n",
       "1599995    thewdb.com - very cool to hear old walt interv...\n",
       "1599996    are you ready for your mojo makeover? ask me f...\n",
       "1599997    happy 38th birthday to my boo of alll time!!! ...\n",
       "1599998    happy #charitytuesday @thenspcc @sparkscharity...\n",
       "Name: text, Length: 1599999, dtype: object"
      ]
     },
     "execution_count": 8,
     "metadata": {},
     "output_type": "execute_result"
    }
   ],
   "source": [
    "# Text transformation to lowercase\n",
    "df['text'] =df['text'].str.lower()\n",
    "df['text']"
   ]
  },
  {
   "cell_type": "code",
   "execution_count": 9,
   "id": "6e2f28e9",
   "metadata": {},
   "outputs": [
    {
     "data": {
      "text/plain": [
       "0          is upset that he can't update his facebook by ...\n",
       "1          @kenichan i dived many times for the ball. man...\n",
       "2            my whole body feels itchy and like its on fire \n",
       "3          @nationwideclass no, it's not behaving at all....\n",
       "4                              @kwesidei not the whole crew \n",
       "                                 ...                        \n",
       "1599994    just woke up. having no school is the best fee...\n",
       "1599995    thewdb.com - very cool to hear old walt interv...\n",
       "1599996    are you ready for your mojo makeover? ask me f...\n",
       "1599997    happy 38th birthday to my boo of alll time!!! ...\n",
       "1599998    happy #charitytuesday @thenspcc @sparkscharity...\n",
       "Name: text, Length: 1599999, dtype: object"
      ]
     },
     "execution_count": 9,
     "metadata": {},
     "output_type": "execute_result"
    }
   ],
   "source": [
    "# URL removal from text\n",
    "df['text'] = df['text'].apply(lambda x:re.sub(r\"http\\S+\", \"\", x))\n",
    "df[\"text\"]"
   ]
  },
  {
   "cell_type": "code",
   "execution_count": 10,
   "id": "7f4c01ab",
   "metadata": {},
   "outputs": [],
   "source": [
    "import string"
   ]
  },
  {
   "cell_type": "code",
   "execution_count": 11,
   "id": "de3880e5",
   "metadata": {},
   "outputs": [
    {
     "data": {
      "text/plain": [
       "0          is upset that he cant update his facebook by t...\n",
       "1          kenichan i dived many times for the ball manag...\n",
       "2            my whole body feels itchy and like its on fire \n",
       "3          nationwideclass no its not behaving at all im ...\n",
       "4                               kwesidei not the whole crew \n",
       "                                 ...                        \n",
       "1599994    just woke up having no school is the best feel...\n",
       "1599995    thewdbcom  very cool to hear old walt intervie...\n",
       "1599996    are you ready for your mojo makeover ask me fo...\n",
       "1599997    happy 38th birthday to my boo of alll time tup...\n",
       "1599998    happy charitytuesday thenspcc sparkscharity sp...\n",
       "Name: text, Length: 1599999, dtype: object"
      ]
     },
     "execution_count": 11,
     "metadata": {},
     "output_type": "execute_result"
    }
   ],
   "source": [
    "# Punctuation from text\n",
    "punctuation_removal = string.punctuation\n",
    "def remove_punctuation(text):\n",
    "    \"\"\"custom function to remove the punctuation\"\"\"\n",
    "    return text.translate(str.maketrans('', '', punctuation_removal))\n",
    "df[\"text\"] = df[\"text\"].apply(lambda text: remove_punctuation(text))\n",
    "df[\"text\"]"
   ]
  },
  {
   "cell_type": "code",
   "execution_count": 12,
   "id": "d21d9b8a",
   "metadata": {},
   "outputs": [
    {
     "data": {
      "text/plain": [
       "0          is upset that he cant update his facebook by t...\n",
       "1          kenichandived many times for the ball managed ...\n",
       "2            my whole body feels itchy and like its on fire \n",
       "3          nationwideclass no its not behaving at all im ...\n",
       "4                               kwesidei not the whole crew \n",
       "                                 ...                        \n",
       "1599994    just woke up having no school is the best feel...\n",
       "1599995    thewdbcom very cool to hear old walt interview...\n",
       "1599996    are you ready for your mojo makeover ask me fo...\n",
       "1599997    happy 38th birthday to my boo of alll time tup...\n",
       "1599998    happy charitytuesday thenspcc sparkscharity sp...\n",
       "Name: text, Length: 1599999, dtype: object"
      ]
     },
     "execution_count": 12,
     "metadata": {},
     "output_type": "execute_result"
    }
   ],
   "source": [
    "# Single character and double space removal from the text\n",
    "df[\"text\"] = df[\"text\"].apply(lambda x:re.sub(r'\\s+[a-zA-Z]\\s+', '', x))\n",
    "df[\"text\"] = df[\"text\"].apply(lambda x:re.sub(r'\\s+', ' ', x, flags=re.I))\n",
    "df[\"text\"]"
   ]
  },
  {
   "cell_type": "code",
   "execution_count": 13,
   "id": "41a3f1d0",
   "metadata": {},
   "outputs": [
    {
     "data": {
      "text/plain": [
       "0          is upset that he cant update his facebook by t...\n",
       "1          kenichandived many times for the ball managed ...\n",
       "2            my whole body feels itchy and like its on fire \n",
       "3          nationwideclass no its not behaving at all im ...\n",
       "4                               kwesidei not the whole crew \n",
       "                                 ...                        \n",
       "1599994    just woke up having no school is the best feel...\n",
       "1599995    thewdbcom very cool to hear old walt interview...\n",
       "1599996    are you ready for your mojo makeover ask me fo...\n",
       "1599997    happy 38th birthday to my boo of alll time tup...\n",
       "1599998    happy charitytuesday thenspcc sparkscharity sp...\n",
       "Name: text, Length: 1599999, dtype: object"
      ]
     },
     "execution_count": 13,
     "metadata": {},
     "output_type": "execute_result"
    }
   ],
   "source": [
    "# Emoji Removal\n",
    "def remove_emoji(string):\n",
    "    emoji_pattern = re.compile(\"[\"\n",
    "                               u\"\\U0001F600-\\U0001F64F\"  # emoticons\n",
    "                               u\"\\U0001F300-\\U0001F5FF\"  # symbols & pictographs\n",
    "                               u\"\\U0001F680-\\U0001F6FF\"  # transport & map symbols\n",
    "                               u\"\\U0001F1E0-\\U0001F1FF\"  # flags (iOS)\n",
    "                               u\"\\U00002500-\\U00002BEF\"  # chinese char\n",
    "                               u\"\\U00002702-\\U000027B0\"\n",
    "                               u\"\\U00002702-\\U000027B0\"\n",
    "                               u\"\\U000024C2-\\U0001F251\"\n",
    "                               u\"\\U0001f926-\\U0001f937\"\n",
    "                               u\"\\U00010000-\\U0010ffff\"\n",
    "                               u\"\\u2640-\\u2642\"\n",
    "                               u\"\\u2600-\\u2B55\"\n",
    "                               u\"\\u200d\"\n",
    "                               u\"\\u23cf\"\n",
    "                               u\"\\u23e9\"\n",
    "                               u\"\\u231a\"\n",
    "                               u\"\\ufe0f\"  # dingbats\n",
    "                               u\"\\u3030\"\n",
    "                               \"]+\", flags=re.UNICODE)\n",
    "    return emoji_pattern.sub(r'', string)\n",
    "df[\"text\"] = df[\"text\"].apply(str)\n",
    "df[\"text\"] = df[\"text\"].apply(remove_emoji)\n",
    "df[\"text\"]"
   ]
  },
  {
   "cell_type": "code",
   "execution_count": 14,
   "id": "622f9ff1",
   "metadata": {},
   "outputs": [
    {
     "data": {
      "text/plain": [
       "0          is upset that he cant update his facebook by t...\n",
       "1          kenichandived many times for the ball managed ...\n",
       "2            my whole body feels itchy and like its on fire \n",
       "3          nationwideclass no its not behaving at all im ...\n",
       "4                               kwesidei not the whole crew \n",
       "                                 ...                        \n",
       "1599994    just woke up having no school is the best feel...\n",
       "1599995    thewdbcom very cool to hear old walt interview...\n",
       "1599996    are you ready for your mojo makeover ask me fo...\n",
       "1599997    happy 38th birthday to my boo of alll time tup...\n",
       "1599998    happy charitytuesday thenspcc sparkscharity sp...\n",
       "Name: text, Length: 1599999, dtype: object"
      ]
     },
     "execution_count": 14,
     "metadata": {},
     "output_type": "execute_result"
    }
   ],
   "source": [
    "# Single character and double space removal from text\n",
    "df[\"text\"] = df[\"text\"].apply(lambda x:re.sub(r'\\s+[a-zA-Z]\\s+', '', x))\n",
    "df[\"text\"] = df[\"text\"].apply(lambda x:re.sub(r'\\s+', ' ', x, flags=re.I))\n",
    "df[\"text\"]"
   ]
  },
  {
   "cell_type": "code",
   "execution_count": 15,
   "id": "fcb6e965",
   "metadata": {},
   "outputs": [
    {
     "data": {
      "text/plain": [
       "[('to', 556063),\n",
       " ('the', 517438),\n",
       " ('my', 312073),\n",
       " ('you', 263475),\n",
       " ('and', 263066),\n",
       " ('it', 223549),\n",
       " ('is', 223104),\n",
       " ('in', 197411),\n",
       " ('for', 195146),\n",
       " ('of', 176815)]"
      ]
     },
     "execution_count": 15,
     "metadata": {},
     "output_type": "execute_result"
    }
   ],
   "source": [
    "# Most common words in the text\n",
    "from collections import Counter\n",
    "cnt = Counter()\n",
    "for text in df[\"text\"].values:\n",
    "    for word in text.split():\n",
    "        cnt[word] += 1\n",
    "        \n",
    "cnt.most_common(10)"
   ]
  },
  {
   "cell_type": "code",
   "execution_count": 16,
   "id": "97ca0cdb",
   "metadata": {},
   "outputs": [
    {
     "data": {
      "text/html": [
       "<div>\n",
       "<style scoped>\n",
       "    .dataframe tbody tr th:only-of-type {\n",
       "        vertical-align: middle;\n",
       "    }\n",
       "\n",
       "    .dataframe tbody tr th {\n",
       "        vertical-align: top;\n",
       "    }\n",
       "\n",
       "    .dataframe thead th {\n",
       "        text-align: right;\n",
       "    }\n",
       "</style>\n",
       "<table border=\"1\" class=\"dataframe\">\n",
       "  <thead>\n",
       "    <tr style=\"text-align: right;\">\n",
       "      <th></th>\n",
       "      <th>date</th>\n",
       "      <th>user</th>\n",
       "      <th>text</th>\n",
       "    </tr>\n",
       "  </thead>\n",
       "  <tbody>\n",
       "    <tr>\n",
       "      <th>0</th>\n",
       "      <td>Mon Apr 06 22:19:49 PDT 2009</td>\n",
       "      <td>scotthamilton</td>\n",
       "      <td>is upset that he cant update his facebook by t...</td>\n",
       "    </tr>\n",
       "    <tr>\n",
       "      <th>1</th>\n",
       "      <td>Mon Apr 06 22:19:53 PDT 2009</td>\n",
       "      <td>mattycus</td>\n",
       "      <td>kenichandived many times for the ball managed ...</td>\n",
       "    </tr>\n",
       "    <tr>\n",
       "      <th>2</th>\n",
       "      <td>Mon Apr 06 22:19:57 PDT 2009</td>\n",
       "      <td>ElleCTF</td>\n",
       "      <td>my whole body feels itchy and like its on fire</td>\n",
       "    </tr>\n",
       "    <tr>\n",
       "      <th>3</th>\n",
       "      <td>Mon Apr 06 22:19:57 PDT 2009</td>\n",
       "      <td>Karoli</td>\n",
       "      <td>nationwideclass no its not behaving at all im ...</td>\n",
       "    </tr>\n",
       "    <tr>\n",
       "      <th>4</th>\n",
       "      <td>Mon Apr 06 22:20:00 PDT 2009</td>\n",
       "      <td>joy_wolf</td>\n",
       "      <td>kwesidei not the whole crew</td>\n",
       "    </tr>\n",
       "  </tbody>\n",
       "</table>\n",
       "</div>"
      ],
      "text/plain": [
       "                           date           user   \n",
       "0  Mon Apr 06 22:19:49 PDT 2009  scotthamilton  \\\n",
       "1  Mon Apr 06 22:19:53 PDT 2009       mattycus   \n",
       "2  Mon Apr 06 22:19:57 PDT 2009        ElleCTF   \n",
       "3  Mon Apr 06 22:19:57 PDT 2009         Karoli   \n",
       "4  Mon Apr 06 22:20:00 PDT 2009       joy_wolf   \n",
       "\n",
       "                                                text  \n",
       "0  is upset that he cant update his facebook by t...  \n",
       "1  kenichandived many times for the ball managed ...  \n",
       "2    my whole body feels itchy and like its on fire   \n",
       "3  nationwideclass no its not behaving at all im ...  \n",
       "4                       kwesidei not the whole crew   "
      ]
     },
     "execution_count": 16,
     "metadata": {},
     "output_type": "execute_result"
    }
   ],
   "source": [
    "df_new=df\n",
    "df_new.head()"
   ]
  },
  {
   "cell_type": "code",
   "execution_count": 17,
   "id": "b0cee651",
   "metadata": {},
   "outputs": [
    {
     "data": {
      "text/plain": [
       "user\n",
       "lost_dog           549\n",
       "webwoke            345\n",
       "tweetpet           310\n",
       "SallytheShizzle    281\n",
       "VioletsCRUK        279\n",
       "                  ... \n",
       "iheartrobpattz       1\n",
       "67trinity            1\n",
       "Sibby                1\n",
       "mAnyA_15             1\n",
       "bpbabe               1\n",
       "Name: count, Length: 659775, dtype: int64"
      ]
     },
     "execution_count": 17,
     "metadata": {},
     "output_type": "execute_result"
    }
   ],
   "source": [
    "df_new.user.value_counts()"
   ]
  },
  {
   "cell_type": "code",
   "execution_count": 18,
   "id": "ce946a8e",
   "metadata": {},
   "outputs": [],
   "source": [
    "# df_new.to_csv('df_new.txt', sep='\\t', index=False)"
   ]
  },
  {
   "cell_type": "markdown",
   "id": "659251dd",
   "metadata": {},
   "source": [
    "# вывести на мап редюсу топ 10 юзеров!!! сохранить результаты \n",
    "### Сохранение данных и последующий анализ выходных данных. При необходимости его можно извлечь из базы данных NoSQL в другой формат с помощью соответствующего инструмента (например, извлечь в CSV для импорта в R/Python и т. д.)."
   ]
  },
  {
   "cell_type": "code",
   "execution_count": 19,
   "id": "3f36994a",
   "metadata": {},
   "outputs": [
    {
     "data": {
      "text/plain": [
       "[('lost_dog', 549),\n",
       " ('webwoke', 345),\n",
       " ('tweetpet', 310),\n",
       " ('SallytheShizzle', 281),\n",
       " ('VioletsCRUK', 279),\n",
       " ('mcraddictal', 276),\n",
       " ('tsarnick', 248),\n",
       " ('what_bugs_u', 246),\n",
       " ('Karen230683', 238),\n",
       " ('DarkPiano', 236)]"
      ]
     },
     "execution_count": 19,
     "metadata": {},
     "output_type": "execute_result"
    }
   ],
   "source": [
    "# top 10 users\n",
    "from collections import Counter\n",
    "cnt = Counter()\n",
    "for text in df_new[\"user\"].values:\n",
    "    for word in text.split():\n",
    "        cnt[word] += 1\n",
    "        \n",
    "cnt.most_common(10)"
   ]
  },
  {
   "cell_type": "code",
   "execution_count": 20,
   "id": "1d1cdcc4",
   "metadata": {},
   "outputs": [],
   "source": [
    "top_10_users = cnt.most_common(10)"
   ]
  },
  {
   "cell_type": "code",
   "execution_count": 21,
   "id": "19aaed1c",
   "metadata": {},
   "outputs": [
    {
     "name": "stdout",
     "output_type": "stream",
     "text": [
      "              User  Tweet count\n",
      "0         lost_dog          549\n",
      "1          webwoke          345\n",
      "2         tweetpet          310\n",
      "3  SallytheShizzle          281\n",
      "4      VioletsCRUK          279\n",
      "5      mcraddictal          276\n",
      "6         tsarnick          248\n",
      "7      what_bugs_u          246\n",
      "8      Karen230683          238\n",
      "9        DarkPiano          236\n"
     ]
    }
   ],
   "source": [
    "top_10_users = pd.DataFrame(top_10_users, columns=[\"User\", \"Tweet count\"])\n",
    "\n",
    "# Вывод таблицы\n",
    "print(top_10_users)"
   ]
  },
  {
   "cell_type": "code",
   "execution_count": 22,
   "id": "55f7b1b8",
   "metadata": {},
   "outputs": [
    {
     "data": {
      "text/html": [
       "<div>\n",
       "<style scoped>\n",
       "    .dataframe tbody tr th:only-of-type {\n",
       "        vertical-align: middle;\n",
       "    }\n",
       "\n",
       "    .dataframe tbody tr th {\n",
       "        vertical-align: top;\n",
       "    }\n",
       "\n",
       "    .dataframe thead th {\n",
       "        text-align: right;\n",
       "    }\n",
       "</style>\n",
       "<table border=\"1\" class=\"dataframe\">\n",
       "  <thead>\n",
       "    <tr style=\"text-align: right;\">\n",
       "      <th></th>\n",
       "      <th>User</th>\n",
       "      <th>Tweet count</th>\n",
       "    </tr>\n",
       "  </thead>\n",
       "  <tbody>\n",
       "    <tr>\n",
       "      <th>0</th>\n",
       "      <td>lost_dog</td>\n",
       "      <td>549</td>\n",
       "    </tr>\n",
       "    <tr>\n",
       "      <th>1</th>\n",
       "      <td>webwoke</td>\n",
       "      <td>345</td>\n",
       "    </tr>\n",
       "    <tr>\n",
       "      <th>2</th>\n",
       "      <td>tweetpet</td>\n",
       "      <td>310</td>\n",
       "    </tr>\n",
       "    <tr>\n",
       "      <th>3</th>\n",
       "      <td>SallytheShizzle</td>\n",
       "      <td>281</td>\n",
       "    </tr>\n",
       "    <tr>\n",
       "      <th>4</th>\n",
       "      <td>VioletsCRUK</td>\n",
       "      <td>279</td>\n",
       "    </tr>\n",
       "    <tr>\n",
       "      <th>5</th>\n",
       "      <td>mcraddictal</td>\n",
       "      <td>276</td>\n",
       "    </tr>\n",
       "    <tr>\n",
       "      <th>6</th>\n",
       "      <td>tsarnick</td>\n",
       "      <td>248</td>\n",
       "    </tr>\n",
       "    <tr>\n",
       "      <th>7</th>\n",
       "      <td>what_bugs_u</td>\n",
       "      <td>246</td>\n",
       "    </tr>\n",
       "    <tr>\n",
       "      <th>8</th>\n",
       "      <td>Karen230683</td>\n",
       "      <td>238</td>\n",
       "    </tr>\n",
       "    <tr>\n",
       "      <th>9</th>\n",
       "      <td>DarkPiano</td>\n",
       "      <td>236</td>\n",
       "    </tr>\n",
       "  </tbody>\n",
       "</table>\n",
       "</div>"
      ],
      "text/plain": [
       "              User  Tweet count\n",
       "0         lost_dog          549\n",
       "1          webwoke          345\n",
       "2         tweetpet          310\n",
       "3  SallytheShizzle          281\n",
       "4      VioletsCRUK          279\n",
       "5      mcraddictal          276\n",
       "6         tsarnick          248\n",
       "7      what_bugs_u          246\n",
       "8      Karen230683          238\n",
       "9        DarkPiano          236"
      ]
     },
     "execution_count": 22,
     "metadata": {},
     "output_type": "execute_result"
    }
   ],
   "source": [
    "top_10_users.head(10)"
   ]
  },
  {
   "cell_type": "code",
   "execution_count": null,
   "id": "3ab3d5eb",
   "metadata": {},
   "outputs": [],
   "source": []
  },
  {
   "cell_type": "code",
   "execution_count": 23,
   "id": "28a194ee",
   "metadata": {},
   "outputs": [
    {
     "data": {
      "image/png": "[encoded data removed]",
      "text/plain": [
       "<Figure size 1000x600 with 1 Axes>"
      ]
     },
     "metadata": {},
     "output_type": "display_data"
    }
   ],
   "source": [
    "# Получение данных для графика\n",
    "user_counts = cnt.most_common(10)\n",
    "users = [user[0] for user in user_counts]\n",
    "tweet_counts = [user[1] for user in user_counts]\n",
    "\n",
    "# Создание графика\n",
    "plt.figure(figsize=(10, 6))\n",
    "plt.bar(users, tweet_counts)\n",
    "plt.xlabel(\"User\")\n",
    "plt.ylabel(\"Tweet Count\")\n",
    "plt.title(\"Top 10 Users by Tweet Count\")\n",
    "plt.xticks(rotation=45)\n",
    "plt.tight_layout()\n",
    "\n",
    "# Отображение графика\n",
    "plt.show()\n",
    "\n",
    "\n",
    "\n"
   ]
  },
  {
   "cell_type": "code",
   "execution_count": null,
   "id": "2d94238a",
   "metadata": {},
   "outputs": [],
   "source": []
  },
  {
   "cell_type": "code",
   "execution_count": null,
   "id": "ad536087",
   "metadata": {},
   "outputs": [],
   "source": []
  },
  {
   "cell_type": "code",
   "execution_count": null,
   "id": "06eb3b19",
   "metadata": {},
   "outputs": [],
   "source": []
  },
  {
   "cell_type": "code",
   "execution_count": null,
   "id": "9bbd8cb7",
   "metadata": {},
   "outputs": [],
   "source": []
  },
  {
   "cell_type": "code",
   "execution_count": null,
   "id": "c93c3a08",
   "metadata": {},
   "outputs": [],
   "source": []
  },
  {
   "cell_type": "markdown",
   "id": "2bc1897b",
   "metadata": {},
   "source": [
    "# определить в какой день было больше всего твитов"
   ]
  },
  {
   "cell_type": "markdown",
   "id": "b8a9dca9",
   "metadata": {},
   "source": [
    "df_new.to_csv(\"df_new.csv\")"
   ]
  },
  {
   "cell_type": "markdown",
   "id": "d697c739",
   "metadata": {},
   "source": [
    "\n",
    "\n",
    "# Сохранение данных в текстовый файл\n",
    "df_new.to_csv('df_new.txt', sep='\\t', index=False)\n"
   ]
  },
  {
   "cell_type": "code",
   "execution_count": 24,
   "id": "edb6fec1",
   "metadata": {},
   "outputs": [],
   "source": [
    "#msno.matrix(df) "
   ]
  },
  {
   "cell_type": "code",
   "execution_count": 25,
   "id": "eab46f23",
   "metadata": {},
   "outputs": [
    {
     "data": {
      "text/html": [
       "<div>\n",
       "<style scoped>\n",
       "    .dataframe tbody tr th:only-of-type {\n",
       "        vertical-align: middle;\n",
       "    }\n",
       "\n",
       "    .dataframe tbody tr th {\n",
       "        vertical-align: top;\n",
       "    }\n",
       "\n",
       "    .dataframe thead th {\n",
       "        text-align: right;\n",
       "    }\n",
       "</style>\n",
       "<table border=\"1\" class=\"dataframe\">\n",
       "  <thead>\n",
       "    <tr style=\"text-align: right;\">\n",
       "      <th></th>\n",
       "      <th>date</th>\n",
       "      <th>user</th>\n",
       "      <th>text</th>\n",
       "    </tr>\n",
       "  </thead>\n",
       "  <tbody>\n",
       "    <tr>\n",
       "      <th>0</th>\n",
       "      <td>Mon Apr 06 22:19:49 PDT 2009</td>\n",
       "      <td>scotthamilton</td>\n",
       "      <td>is upset that he cant update his facebook by t...</td>\n",
       "    </tr>\n",
       "    <tr>\n",
       "      <th>1</th>\n",
       "      <td>Mon Apr 06 22:19:53 PDT 2009</td>\n",
       "      <td>mattycus</td>\n",
       "      <td>kenichandived many times for the ball managed ...</td>\n",
       "    </tr>\n",
       "    <tr>\n",
       "      <th>2</th>\n",
       "      <td>Mon Apr 06 22:19:57 PDT 2009</td>\n",
       "      <td>ElleCTF</td>\n",
       "      <td>my whole body feels itchy and like its on fire</td>\n",
       "    </tr>\n",
       "    <tr>\n",
       "      <th>3</th>\n",
       "      <td>Mon Apr 06 22:19:57 PDT 2009</td>\n",
       "      <td>Karoli</td>\n",
       "      <td>nationwideclass no its not behaving at all im ...</td>\n",
       "    </tr>\n",
       "    <tr>\n",
       "      <th>4</th>\n",
       "      <td>Mon Apr 06 22:20:00 PDT 2009</td>\n",
       "      <td>joy_wolf</td>\n",
       "      <td>kwesidei not the whole crew</td>\n",
       "    </tr>\n",
       "  </tbody>\n",
       "</table>\n",
       "</div>"
      ],
      "text/plain": [
       "                           date           user   \n",
       "0  Mon Apr 06 22:19:49 PDT 2009  scotthamilton  \\\n",
       "1  Mon Apr 06 22:19:53 PDT 2009       mattycus   \n",
       "2  Mon Apr 06 22:19:57 PDT 2009        ElleCTF   \n",
       "3  Mon Apr 06 22:19:57 PDT 2009         Karoli   \n",
       "4  Mon Apr 06 22:20:00 PDT 2009       joy_wolf   \n",
       "\n",
       "                                                text  \n",
       "0  is upset that he cant update his facebook by t...  \n",
       "1  kenichandived many times for the ball managed ...  \n",
       "2    my whole body feels itchy and like its on fire   \n",
       "3  nationwideclass no its not behaving at all im ...  \n",
       "4                       kwesidei not the whole crew   "
      ]
     },
     "execution_count": 25,
     "metadata": {},
     "output_type": "execute_result"
    }
   ],
   "source": [
    "df_new.head()"
   ]
  },
  {
   "cell_type": "code",
   "execution_count": 26,
   "id": "4f518087",
   "metadata": {},
   "outputs": [],
   "source": [
    "#df_new.to_csv(\"df_data.csv\")"
   ]
  },
  {
   "cell_type": "code",
   "execution_count": 27,
   "id": "1e39b650",
   "metadata": {},
   "outputs": [],
   "source": [
    "# Преобразование столбца с датой в формат datetime\n",
    "df_new['date'] = pd.to_datetime(df_new['date']).dt.date "
   ]
  },
  {
   "cell_type": "code",
   "execution_count": 28,
   "id": "bbbfcf59",
   "metadata": {},
   "outputs": [
    {
     "data": {
      "text/html": [
       "<div>\n",
       "<style scoped>\n",
       "    .dataframe tbody tr th:only-of-type {\n",
       "        vertical-align: middle;\n",
       "    }\n",
       "\n",
       "    .dataframe tbody tr th {\n",
       "        vertical-align: top;\n",
       "    }\n",
       "\n",
       "    .dataframe thead th {\n",
       "        text-align: right;\n",
       "    }\n",
       "</style>\n",
       "<table border=\"1\" class=\"dataframe\">\n",
       "  <thead>\n",
       "    <tr style=\"text-align: right;\">\n",
       "      <th></th>\n",
       "      <th>date</th>\n",
       "      <th>user</th>\n",
       "      <th>text</th>\n",
       "    </tr>\n",
       "  </thead>\n",
       "  <tbody>\n",
       "    <tr>\n",
       "      <th>0</th>\n",
       "      <td>2009-04-06</td>\n",
       "      <td>scotthamilton</td>\n",
       "      <td>is upset that he cant update his facebook by t...</td>\n",
       "    </tr>\n",
       "    <tr>\n",
       "      <th>1</th>\n",
       "      <td>2009-04-06</td>\n",
       "      <td>mattycus</td>\n",
       "      <td>kenichandived many times for the ball managed ...</td>\n",
       "    </tr>\n",
       "    <tr>\n",
       "      <th>2</th>\n",
       "      <td>2009-04-06</td>\n",
       "      <td>ElleCTF</td>\n",
       "      <td>my whole body feels itchy and like its on fire</td>\n",
       "    </tr>\n",
       "    <tr>\n",
       "      <th>3</th>\n",
       "      <td>2009-04-06</td>\n",
       "      <td>Karoli</td>\n",
       "      <td>nationwideclass no its not behaving at all im ...</td>\n",
       "    </tr>\n",
       "    <tr>\n",
       "      <th>4</th>\n",
       "      <td>2009-04-06</td>\n",
       "      <td>joy_wolf</td>\n",
       "      <td>kwesidei not the whole crew</td>\n",
       "    </tr>\n",
       "  </tbody>\n",
       "</table>\n",
       "</div>"
      ],
      "text/plain": [
       "         date           user   \n",
       "0  2009-04-06  scotthamilton  \\\n",
       "1  2009-04-06       mattycus   \n",
       "2  2009-04-06        ElleCTF   \n",
       "3  2009-04-06         Karoli   \n",
       "4  2009-04-06       joy_wolf   \n",
       "\n",
       "                                                text  \n",
       "0  is upset that he cant update his facebook by t...  \n",
       "1  kenichandived many times for the ball managed ...  \n",
       "2    my whole body feels itchy and like its on fire   \n",
       "3  nationwideclass no its not behaving at all im ...  \n",
       "4                       kwesidei not the whole crew   "
      ]
     },
     "execution_count": 28,
     "metadata": {},
     "output_type": "execute_result"
    }
   ],
   "source": [
    "df_new.head()"
   ]
  },
  {
   "cell_type": "code",
   "execution_count": 29,
   "id": "3642878d",
   "metadata": {},
   "outputs": [
    {
     "name": "stdout",
     "output_type": "stream",
     "text": [
      "object\n"
     ]
    }
   ],
   "source": [
    "print(df_new['date'].dtype)\n"
   ]
  },
  {
   "cell_type": "code",
   "execution_count": 30,
   "id": "669243f4",
   "metadata": {},
   "outputs": [
    {
     "name": "stdout",
     "output_type": "stream",
     "text": [
      "Index(['date', 'user', 'text'], dtype='object')\n"
     ]
    }
   ],
   "source": [
    "print(df_new.columns)"
   ]
  },
  {
   "cell_type": "code",
   "execution_count": 31,
   "id": "66923c2d",
   "metadata": {},
   "outputs": [],
   "source": [
    "#df_new['date'] = pd.to_datetime(df_new['date'])"
   ]
  },
  {
   "cell_type": "code",
   "execution_count": 32,
   "id": "1c86e810",
   "metadata": {},
   "outputs": [],
   "source": [
    "#df_new.index = pd.to_datetime(df_new['date'], format='%Y-%m-%d')\n",
    "#del df_new['date']\n",
    "\n",
    "#print(df_new.columns)\n"
   ]
  },
  {
   "cell_type": "code",
   "execution_count": 33,
   "id": "dfd44567",
   "metadata": {},
   "outputs": [
    {
     "data": {
      "text/html": [
       "<div>\n",
       "<style scoped>\n",
       "    .dataframe tbody tr th:only-of-type {\n",
       "        vertical-align: middle;\n",
       "    }\n",
       "\n",
       "    .dataframe tbody tr th {\n",
       "        vertical-align: top;\n",
       "    }\n",
       "\n",
       "    .dataframe thead th {\n",
       "        text-align: right;\n",
       "    }\n",
       "</style>\n",
       "<table border=\"1\" class=\"dataframe\">\n",
       "  <thead>\n",
       "    <tr style=\"text-align: right;\">\n",
       "      <th></th>\n",
       "      <th>date</th>\n",
       "      <th>user</th>\n",
       "      <th>text</th>\n",
       "    </tr>\n",
       "  </thead>\n",
       "  <tbody>\n",
       "    <tr>\n",
       "      <th>0</th>\n",
       "      <td>2009-04-06</td>\n",
       "      <td>scotthamilton</td>\n",
       "      <td>is upset that he cant update his facebook by t...</td>\n",
       "    </tr>\n",
       "    <tr>\n",
       "      <th>1</th>\n",
       "      <td>2009-04-06</td>\n",
       "      <td>mattycus</td>\n",
       "      <td>kenichandived many times for the ball managed ...</td>\n",
       "    </tr>\n",
       "    <tr>\n",
       "      <th>2</th>\n",
       "      <td>2009-04-06</td>\n",
       "      <td>ElleCTF</td>\n",
       "      <td>my whole body feels itchy and like its on fire</td>\n",
       "    </tr>\n",
       "    <tr>\n",
       "      <th>3</th>\n",
       "      <td>2009-04-06</td>\n",
       "      <td>Karoli</td>\n",
       "      <td>nationwideclass no its not behaving at all im ...</td>\n",
       "    </tr>\n",
       "    <tr>\n",
       "      <th>4</th>\n",
       "      <td>2009-04-06</td>\n",
       "      <td>joy_wolf</td>\n",
       "      <td>kwesidei not the whole crew</td>\n",
       "    </tr>\n",
       "  </tbody>\n",
       "</table>\n",
       "</div>"
      ],
      "text/plain": [
       "         date           user   \n",
       "0  2009-04-06  scotthamilton  \\\n",
       "1  2009-04-06       mattycus   \n",
       "2  2009-04-06        ElleCTF   \n",
       "3  2009-04-06         Karoli   \n",
       "4  2009-04-06       joy_wolf   \n",
       "\n",
       "                                                text  \n",
       "0  is upset that he cant update his facebook by t...  \n",
       "1  kenichandived many times for the ball managed ...  \n",
       "2    my whole body feels itchy and like its on fire   \n",
       "3  nationwideclass no its not behaving at all im ...  \n",
       "4                       kwesidei not the whole crew   "
      ]
     },
     "execution_count": 33,
     "metadata": {},
     "output_type": "execute_result"
    }
   ],
   "source": [
    "df_new.head()"
   ]
  },
  {
   "cell_type": "code",
   "execution_count": 34,
   "id": "b52acc19",
   "metadata": {},
   "outputs": [
    {
     "name": "stderr",
     "output_type": "stream",
     "text": [
      "[nltk_data] Downloading package stopwords to\n",
      "[nltk_data]     /Users/alyona_dushkina/nltk_data...\n",
      "[nltk_data]   Package stopwords is already up-to-date!\n",
      "[nltk_data] Downloading package wordnet to\n",
      "[nltk_data]     /Users/alyona_dushkina/nltk_data...\n",
      "[nltk_data]   Package wordnet is already up-to-date!\n"
     ]
    },
    {
     "data": {
      "text/plain": [
       "True"
      ]
     },
     "execution_count": 34,
     "metadata": {},
     "output_type": "execute_result"
    }
   ],
   "source": [
    "import nltk\n",
    "from nltk.stem import WordNetLemmatizer\n",
    "from nltk.corpus import stopwords\n",
    "\n",
    "lemmatizer = WordNetLemmatizer()\n",
    "nltk.download('stopwords')\n",
    "nltk.download('wordnet')"
   ]
  },
  {
   "cell_type": "code",
   "execution_count": 35,
   "id": "7dad3ba6",
   "metadata": {},
   "outputs": [
    {
     "data": {
      "text/plain": [
       "(179, ['our', 'ours', 'ourselves', 'you', \"you're\"])"
      ]
     },
     "execution_count": 35,
     "metadata": {},
     "output_type": "execute_result"
    }
   ],
   "source": [
    "#stopwords are the words which won't bring about any changes to the polarity of the tweet\n",
    "stop_words = stopwords.words('english')   \n",
    "len(stop_words),stop_words[5:10]"
   ]
  },
  {
   "cell_type": "code",
   "execution_count": 36,
   "id": "dbd58907",
   "metadata": {},
   "outputs": [],
   "source": [
    "# function to remove stopwords\n",
    "def stopWords(tweet):\n",
    "  clean_tweet = tweet\n",
    "  clean_tweet = \" \".join(word for word in clean_tweet.split() if word not in stop_words)\n",
    "# clean_tweet = \" \".join(lemmatizer.lemmatize(word) for word in clean_tweet.split())\n",
    "  return clean_tweet"
   ]
  },
  {
   "cell_type": "code",
   "execution_count": 37,
   "id": "ca1fe6d7",
   "metadata": {},
   "outputs": [],
   "source": [
    "df_new['text'] = df_new['text'].apply(lambda x: stopWords(x))"
   ]
  },
  {
   "cell_type": "code",
   "execution_count": 38,
   "id": "e55a4978",
   "metadata": {},
   "outputs": [
    {
     "data": {
      "text/html": [
       "<div>\n",
       "<style scoped>\n",
       "    .dataframe tbody tr th:only-of-type {\n",
       "        vertical-align: middle;\n",
       "    }\n",
       "\n",
       "    .dataframe tbody tr th {\n",
       "        vertical-align: top;\n",
       "    }\n",
       "\n",
       "    .dataframe thead th {\n",
       "        text-align: right;\n",
       "    }\n",
       "</style>\n",
       "<table border=\"1\" class=\"dataframe\">\n",
       "  <thead>\n",
       "    <tr style=\"text-align: right;\">\n",
       "      <th></th>\n",
       "      <th>date</th>\n",
       "      <th>user</th>\n",
       "      <th>text</th>\n",
       "    </tr>\n",
       "  </thead>\n",
       "  <tbody>\n",
       "    <tr>\n",
       "      <th>0</th>\n",
       "      <td>2009-04-06</td>\n",
       "      <td>scotthamilton</td>\n",
       "      <td>upset cant update facebook texting might cry a...</td>\n",
       "    </tr>\n",
       "    <tr>\n",
       "      <th>1</th>\n",
       "      <td>2009-04-06</td>\n",
       "      <td>mattycus</td>\n",
       "      <td>kenichandived many times ball managed save 50 ...</td>\n",
       "    </tr>\n",
       "    <tr>\n",
       "      <th>2</th>\n",
       "      <td>2009-04-06</td>\n",
       "      <td>ElleCTF</td>\n",
       "      <td>whole body feels itchy like fire</td>\n",
       "    </tr>\n",
       "    <tr>\n",
       "      <th>3</th>\n",
       "      <td>2009-04-06</td>\n",
       "      <td>Karoli</td>\n",
       "      <td>nationwideclass behaving im mad amhere because...</td>\n",
       "    </tr>\n",
       "    <tr>\n",
       "      <th>4</th>\n",
       "      <td>2009-04-06</td>\n",
       "      <td>joy_wolf</td>\n",
       "      <td>kwesidei whole crew</td>\n",
       "    </tr>\n",
       "  </tbody>\n",
       "</table>\n",
       "</div>"
      ],
      "text/plain": [
       "         date           user   \n",
       "0  2009-04-06  scotthamilton  \\\n",
       "1  2009-04-06       mattycus   \n",
       "2  2009-04-06        ElleCTF   \n",
       "3  2009-04-06         Karoli   \n",
       "4  2009-04-06       joy_wolf   \n",
       "\n",
       "                                                text  \n",
       "0  upset cant update facebook texting might cry a...  \n",
       "1  kenichandived many times ball managed save 50 ...  \n",
       "2                   whole body feels itchy like fire  \n",
       "3  nationwideclass behaving im mad amhere because...  \n",
       "4                                kwesidei whole crew  "
      ]
     },
     "execution_count": 38,
     "metadata": {},
     "output_type": "execute_result"
    }
   ],
   "source": [
    "df_new.head()"
   ]
  },
  {
   "cell_type": "code",
   "execution_count": 39,
   "id": "86338603",
   "metadata": {},
   "outputs": [],
   "source": [
    "from textblob import TextBlob\n",
    "# Function to assign polarity and subjectivity to the tweets\n",
    "def blob_fun(text):\n",
    "  senti = TextBlob(text)\n",
    "  senti_polarity = senti.sentiment.polarity\n",
    "  senti_subjectivity = senti.sentiment.subjectivity\n",
    "\n",
    "  if senti_polarity > 0:\n",
    "    res = 'Positive'\n",
    "\n",
    "  elif senti_polarity < 0:\n",
    "    res = 'Negative'\n",
    "\n",
    "  elif senti_polarity == 0:\n",
    "    res =\"Neutral\"\n",
    "\n",
    "  result = {'polarity':senti_polarity,'subjectivity':senti_subjectivity,'sentiment':res}\n",
    "\n",
    "  return result"
   ]
  },
  {
   "cell_type": "code",
   "execution_count": 40,
   "id": "a1decd83",
   "metadata": {},
   "outputs": [],
   "source": [
    "df_new['results'] = df_new['text'].apply(blob_fun)\n"
   ]
  },
  {
   "cell_type": "code",
   "execution_count": 41,
   "id": "30d518ef",
   "metadata": {},
   "outputs": [],
   "source": [
    "df_sentiment = df_new.join(pd.json_normalize(data=df_new['results']))\n"
   ]
  },
  {
   "cell_type": "code",
   "execution_count": 42,
   "id": "3bb42d78",
   "metadata": {},
   "outputs": [
    {
     "data": {
      "text/html": [
       "<div>\n",
       "<style scoped>\n",
       "    .dataframe tbody tr th:only-of-type {\n",
       "        vertical-align: middle;\n",
       "    }\n",
       "\n",
       "    .dataframe tbody tr th {\n",
       "        vertical-align: top;\n",
       "    }\n",
       "\n",
       "    .dataframe thead th {\n",
       "        text-align: right;\n",
       "    }\n",
       "</style>\n",
       "<table border=\"1\" class=\"dataframe\">\n",
       "  <thead>\n",
       "    <tr style=\"text-align: right;\">\n",
       "      <th></th>\n",
       "      <th>date</th>\n",
       "      <th>user</th>\n",
       "      <th>text</th>\n",
       "      <th>results</th>\n",
       "      <th>polarity</th>\n",
       "      <th>subjectivity</th>\n",
       "      <th>sentiment</th>\n",
       "    </tr>\n",
       "  </thead>\n",
       "  <tbody>\n",
       "    <tr>\n",
       "      <th>0</th>\n",
       "      <td>2009-04-06</td>\n",
       "      <td>scotthamilton</td>\n",
       "      <td>upset cant update facebook texting might cry a...</td>\n",
       "      <td>{'polarity': 0.0, 'subjectivity': 0.0, 'sentim...</td>\n",
       "      <td>0.000</td>\n",
       "      <td>0.0</td>\n",
       "      <td>Neutral</td>\n",
       "    </tr>\n",
       "    <tr>\n",
       "      <th>1</th>\n",
       "      <td>2009-04-06</td>\n",
       "      <td>mattycus</td>\n",
       "      <td>kenichandived many times ball managed save 50 ...</td>\n",
       "      <td>{'polarity': 0.5, 'subjectivity': 0.5, 'sentim...</td>\n",
       "      <td>0.500</td>\n",
       "      <td>0.5</td>\n",
       "      <td>Positive</td>\n",
       "    </tr>\n",
       "    <tr>\n",
       "      <th>2</th>\n",
       "      <td>2009-04-06</td>\n",
       "      <td>ElleCTF</td>\n",
       "      <td>whole body feels itchy like fire</td>\n",
       "      <td>{'polarity': 0.2, 'subjectivity': 0.4, 'sentim...</td>\n",
       "      <td>0.200</td>\n",
       "      <td>0.4</td>\n",
       "      <td>Positive</td>\n",
       "    </tr>\n",
       "    <tr>\n",
       "      <th>3</th>\n",
       "      <td>2009-04-06</td>\n",
       "      <td>Karoli</td>\n",
       "      <td>nationwideclass behaving im mad amhere because...</td>\n",
       "      <td>{'polarity': -0.625, 'subjectivity': 1.0, 'sen...</td>\n",
       "      <td>-0.625</td>\n",
       "      <td>1.0</td>\n",
       "      <td>Negative</td>\n",
       "    </tr>\n",
       "    <tr>\n",
       "      <th>4</th>\n",
       "      <td>2009-04-06</td>\n",
       "      <td>joy_wolf</td>\n",
       "      <td>kwesidei whole crew</td>\n",
       "      <td>{'polarity': 0.2, 'subjectivity': 0.4, 'sentim...</td>\n",
       "      <td>0.200</td>\n",
       "      <td>0.4</td>\n",
       "      <td>Positive</td>\n",
       "    </tr>\n",
       "  </tbody>\n",
       "</table>\n",
       "</div>"
      ],
      "text/plain": [
       "         date           user   \n",
       "0  2009-04-06  scotthamilton  \\\n",
       "1  2009-04-06       mattycus   \n",
       "2  2009-04-06        ElleCTF   \n",
       "3  2009-04-06         Karoli   \n",
       "4  2009-04-06       joy_wolf   \n",
       "\n",
       "                                                text   \n",
       "0  upset cant update facebook texting might cry a...  \\\n",
       "1  kenichandived many times ball managed save 50 ...   \n",
       "2                   whole body feels itchy like fire   \n",
       "3  nationwideclass behaving im mad amhere because...   \n",
       "4                                kwesidei whole crew   \n",
       "\n",
       "                                             results  polarity  subjectivity   \n",
       "0  {'polarity': 0.0, 'subjectivity': 0.0, 'sentim...     0.000           0.0  \\\n",
       "1  {'polarity': 0.5, 'subjectivity': 0.5, 'sentim...     0.500           0.5   \n",
       "2  {'polarity': 0.2, 'subjectivity': 0.4, 'sentim...     0.200           0.4   \n",
       "3  {'polarity': -0.625, 'subjectivity': 1.0, 'sen...    -0.625           1.0   \n",
       "4  {'polarity': 0.2, 'subjectivity': 0.4, 'sentim...     0.200           0.4   \n",
       "\n",
       "  sentiment  \n",
       "0   Neutral  \n",
       "1  Positive  \n",
       "2  Positive  \n",
       "3  Negative  \n",
       "4  Positive  "
      ]
     },
     "execution_count": 42,
     "metadata": {},
     "output_type": "execute_result"
    }
   ],
   "source": [
    "df_sentiment.head()"
   ]
  },
  {
   "cell_type": "code",
   "execution_count": 43,
   "id": "53f651e2",
   "metadata": {},
   "outputs": [
    {
     "data": {
      "text/plain": [
       "sentiment\n",
       "Neutral     689148\n",
       "Positive    614630\n",
       "Negative    296221\n",
       "Name: count, dtype: int64"
      ]
     },
     "execution_count": 43,
     "metadata": {},
     "output_type": "execute_result"
    }
   ],
   "source": [
    "df_sentiment[\"sentiment\"].value_counts() "
   ]
  },
  {
   "cell_type": "code",
   "execution_count": 45,
   "id": "8d452c80",
   "metadata": {},
   "outputs": [
    {
     "data": {
      "image/png": "[encoded data removed]",
      "text/plain": [
       "<Figure size 640x480 with 1 Axes>"
      ]
     },
     "metadata": {},
     "output_type": "display_data"
    }
   ],
   "source": [
    "# Определите цвета для сегментов круговой диаграммы\n",
    "colors = ['#66b3ff', '#ff9999', '#99ff99']\n",
    "\n",
    "# Создание круговой диаграммы\n",
    "ax = df_sentiment['sentiment'].value_counts().plot.pie(autopct='%.2f%%', colors=colors)\n",
    "\n",
    "# Добавление заголовка\n",
    "plt.title('Распределение тональности твитов')\n",
    "\n",
    "# Устанавливаем расстояние между сегментами и их подписями\n",
    "ax.set_xlabel('')\n",
    "ax.set_ylabel('')\n",
    "ax.legend(title='Тональность', loc='center left', bbox_to_anchor=(1.0, 0, 0.5, 1))\n",
    "\n",
    "# Отображение круговой диаграммы\n",
    "plt.show()"
   ]
  },
  {
   "cell_type": "markdown",
   "id": "83c02a57",
   "metadata": {},
   "source": [
    "Повышение частоты дискретизации для компенсации дисбаланса категорий.\n",
    "Проблема дисбаланса категорий возникает, когда одна метка появляется чаще, чем другие. В такой ситуации классификаторы, как правило, перегружены большими классами и игнорируют маленькие.\n",
    "\n",
    "Применительно к нашему набору данных твитов мы замечаем дисбаланс между классами. По той же причине наша модель может склоняться к нейтральности. Неуправляемый дисбаланс категорий сделал бы нашу модель упрощенной и неточной."
   ]
  },
  {
   "cell_type": "code",
   "execution_count": 46,
   "id": "12246d83",
   "metadata": {},
   "outputs": [
    {
     "name": "stdout",
     "output_type": "stream",
     "text": [
      "sentiment\n",
      "Positive    689148\n",
      "Neutral     689148\n",
      "Negative    689148\n",
      "Name: count, dtype: int64\n"
     ]
    }
   ],
   "source": [
    "# Разделим DataFrame на отдельные классы\n",
    "df_positive = df_sentiment[df_sentiment['sentiment'] == 'Positive']\n",
    "df_negative = df_sentiment[df_sentiment['sentiment'] == 'Negative']\n",
    "df_neutral = df_sentiment[df_sentiment['sentiment'] == 'Neutral']\n",
    "\n",
    "# Определим размер класса большинства (нейтральные твиты)\n",
    "majority_size = df_neutral.shape[0]\n",
    "\n",
    "# Сгенерируем случайные индексы для апсемплинга положительных и отрицательных твитов\n",
    "random_indices_positive = np.random.choice(df_positive.index, size=majority_size, replace=True)\n",
    "random_indices_negative = np.random.choice(df_negative.index, size=majority_size, replace=True)\n",
    "\n",
    "# Получим новые DataFrame для положительных и отрицательных твитов\n",
    "df_positive_upsampled = df_positive.loc[random_indices_positive]\n",
    "df_negative_upsampled = df_negative.loc[random_indices_negative]\n",
    "\n",
    "# Объединим все DataFrame обратно в один DataFrame с добавленными новыми твитами\n",
    "df_upsampled = pd.concat([df_neutral, df_positive_upsampled, df_negative_upsampled])\n",
    "\n",
    "# Перемешаем данные для разнообразия\n",
    "df_upsampled = df_upsampled.sample(frac=1).reset_index(drop=True)\n",
    "\n",
    "# Проверим результаты\n",
    "print(df_upsampled[\"sentiment\"].value_counts())"
   ]
  },
  {
   "cell_type": "markdown",
   "id": "dabefb35",
   "metadata": {},
   "source": [
    "При апсемплинге вы рискуете получить переобучение, повторяя снова и снова одни и те же твиты. Но если ваш набор данных достаточно большой, это не должно быть проблемой."
   ]
  },
  {
   "cell_type": "code",
   "execution_count": 47,
   "id": "6604dabc",
   "metadata": {},
   "outputs": [
    {
     "data": {
      "text/plain": [
       "<Axes: ylabel='count'>"
      ]
     },
     "execution_count": 47,
     "metadata": {},
     "output_type": "execute_result"
    },
    {
     "data": {
      "image/png": "[encoded data removed]",
      "text/plain": [
       "<Figure size 640x480 with 1 Axes>"
      ]
     },
     "metadata": {},
     "output_type": "display_data"
    }
   ],
   "source": [
    "df_upsampled['sentiment'].value_counts().plot.pie(autopct= '%.2f')"
   ]
  },
  {
   "cell_type": "code",
   "execution_count": 48,
   "id": "f2692dc7",
   "metadata": {},
   "outputs": [
    {
     "data": {
      "text/html": [
       "<div>\n",
       "<style scoped>\n",
       "    .dataframe tbody tr th:only-of-type {\n",
       "        vertical-align: middle;\n",
       "    }\n",
       "\n",
       "    .dataframe tbody tr th {\n",
       "        vertical-align: top;\n",
       "    }\n",
       "\n",
       "    .dataframe thead th {\n",
       "        text-align: right;\n",
       "    }\n",
       "</style>\n",
       "<table border=\"1\" class=\"dataframe\">\n",
       "  <thead>\n",
       "    <tr style=\"text-align: right;\">\n",
       "      <th></th>\n",
       "      <th>date</th>\n",
       "      <th>user</th>\n",
       "      <th>text</th>\n",
       "      <th>results</th>\n",
       "      <th>polarity</th>\n",
       "      <th>subjectivity</th>\n",
       "      <th>sentiment</th>\n",
       "    </tr>\n",
       "  </thead>\n",
       "  <tbody>\n",
       "    <tr>\n",
       "      <th>0</th>\n",
       "      <td>2009-06-24</td>\n",
       "      <td>caitlingeiger</td>\n",
       "      <td>camtronsummerswont know untilget new work sche...</td>\n",
       "      <td>{'polarity': 0.13636363636363635, 'subjectivit...</td>\n",
       "      <td>0.136364</td>\n",
       "      <td>0.454545</td>\n",
       "      <td>Positive</td>\n",
       "    </tr>\n",
       "    <tr>\n",
       "      <th>1</th>\n",
       "      <td>2009-06-15</td>\n",
       "      <td>mad_vtak</td>\n",
       "      <td>also togood friend congrats man engaged im hap...</td>\n",
       "      <td>{'polarity': 0.8, 'subjectivity': 1.0, 'sentim...</td>\n",
       "      <td>0.800000</td>\n",
       "      <td>1.000000</td>\n",
       "      <td>Positive</td>\n",
       "    </tr>\n",
       "    <tr>\n",
       "      <th>2</th>\n",
       "      <td>2009-05-18</td>\n",
       "      <td>stupid_doll_</td>\n",
       "      <td>yaaaay finally</td>\n",
       "      <td>{'polarity': 0.0, 'subjectivity': 1.0, 'sentim...</td>\n",
       "      <td>0.000000</td>\n",
       "      <td>1.000000</td>\n",
       "      <td>Neutral</td>\n",
       "    </tr>\n",
       "    <tr>\n",
       "      <th>3</th>\n",
       "      <td>2009-06-02</td>\n",
       "      <td>Geeklawyer</td>\n",
       "      <td>manxstef spoke canon take elstree ffs drive lo...</td>\n",
       "      <td>{'polarity': -0.060714285714285714, 'subjectiv...</td>\n",
       "      <td>-0.060714</td>\n",
       "      <td>0.307143</td>\n",
       "      <td>Negative</td>\n",
       "    </tr>\n",
       "    <tr>\n",
       "      <th>4</th>\n",
       "      <td>2009-06-02</td>\n",
       "      <td>DrunkenNyt</td>\n",
       "      <td>simply orange thee best juice ever made</td>\n",
       "      <td>{'polarity': 0.5, 'subjectivity': 0.3285714285...</td>\n",
       "      <td>0.500000</td>\n",
       "      <td>0.328571</td>\n",
       "      <td>Positive</td>\n",
       "    </tr>\n",
       "  </tbody>\n",
       "</table>\n",
       "</div>"
      ],
      "text/plain": [
       "         date           user   \n",
       "0  2009-06-24  caitlingeiger  \\\n",
       "1  2009-06-15       mad_vtak   \n",
       "2  2009-05-18   stupid_doll_   \n",
       "3  2009-06-02     Geeklawyer   \n",
       "4  2009-06-02     DrunkenNyt   \n",
       "\n",
       "                                                text   \n",
       "0  camtronsummerswont know untilget new work sche...  \\\n",
       "1  also togood friend congrats man engaged im hap...   \n",
       "2                                     yaaaay finally   \n",
       "3  manxstef spoke canon take elstree ffs drive lo...   \n",
       "4            simply orange thee best juice ever made   \n",
       "\n",
       "                                             results  polarity  subjectivity   \n",
       "0  {'polarity': 0.13636363636363635, 'subjectivit...  0.136364      0.454545  \\\n",
       "1  {'polarity': 0.8, 'subjectivity': 1.0, 'sentim...  0.800000      1.000000   \n",
       "2  {'polarity': 0.0, 'subjectivity': 1.0, 'sentim...  0.000000      1.000000   \n",
       "3  {'polarity': -0.060714285714285714, 'subjectiv... -0.060714      0.307143   \n",
       "4  {'polarity': 0.5, 'subjectivity': 0.3285714285...  0.500000      0.328571   \n",
       "\n",
       "  sentiment  \n",
       "0  Positive  \n",
       "1  Positive  \n",
       "2   Neutral  \n",
       "3  Negative  \n",
       "4  Positive  "
      ]
     },
     "execution_count": 48,
     "metadata": {},
     "output_type": "execute_result"
    }
   ],
   "source": [
    "df_upsampled.head()"
   ]
  },
  {
   "attachments": {},
   "cell_type": "markdown",
   "id": "aa6ee47e",
   "metadata": {},
   "source": [
    "# Ответим на первый вопрос: Прогноз количества твиттов общий для всех твиттов!"
   ]
  },
  {
   "cell_type": "code",
   "execution_count": 49,
   "id": "d8617852",
   "metadata": {},
   "outputs": [],
   "source": [
    "df_all=df_upsampled"
   ]
  },
  {
   "cell_type": "code",
   "execution_count": 50,
   "id": "43763fe3",
   "metadata": {},
   "outputs": [
    {
     "data": {
      "text/html": [
       "<div>\n",
       "<style scoped>\n",
       "    .dataframe tbody tr th:only-of-type {\n",
       "        vertical-align: middle;\n",
       "    }\n",
       "\n",
       "    .dataframe tbody tr th {\n",
       "        vertical-align: top;\n",
       "    }\n",
       "\n",
       "    .dataframe thead th {\n",
       "        text-align: right;\n",
       "    }\n",
       "</style>\n",
       "<table border=\"1\" class=\"dataframe\">\n",
       "  <thead>\n",
       "    <tr style=\"text-align: right;\">\n",
       "      <th></th>\n",
       "      <th>text</th>\n",
       "    </tr>\n",
       "    <tr>\n",
       "      <th>date</th>\n",
       "      <th></th>\n",
       "    </tr>\n",
       "  </thead>\n",
       "  <tbody>\n",
       "    <tr>\n",
       "      <th>2009-04-06</th>\n",
       "      <td>4313</td>\n",
       "    </tr>\n",
       "    <tr>\n",
       "      <th>2009-04-07</th>\n",
       "      <td>22302</td>\n",
       "    </tr>\n",
       "    <tr>\n",
       "      <th>2009-04-17</th>\n",
       "      <td>3890</td>\n",
       "    </tr>\n",
       "    <tr>\n",
       "      <th>2009-04-18</th>\n",
       "      <td>27721</td>\n",
       "    </tr>\n",
       "    <tr>\n",
       "      <th>2009-04-19</th>\n",
       "      <td>34893</td>\n",
       "    </tr>\n",
       "  </tbody>\n",
       "</table>\n",
       "</div>"
      ],
      "text/plain": [
       "             text\n",
       "date             \n",
       "2009-04-06   4313\n",
       "2009-04-07  22302\n",
       "2009-04-17   3890\n",
       "2009-04-18  27721\n",
       "2009-04-19  34893"
      ]
     },
     "execution_count": 50,
     "metadata": {},
     "output_type": "execute_result"
    }
   ],
   "source": [
    "df_all['date'] = pd.to_datetime(df_all['date'])\n",
    "tweets_per_day = df_all.groupby(df_all['date'].dt.date)['text'].count()\n",
    "tweets_per_day = pd.DataFrame(tweets_per_day)\n",
    "tweets_per_day.head()"
   ]
  },
  {
   "cell_type": "code",
   "execution_count": 53,
   "id": "0e576517",
   "metadata": {},
   "outputs": [],
   "source": [
    "# df_all.to_csv('file2.csv')"
   ]
  },
  {
   "cell_type": "markdown",
   "id": "6c6380e6",
   "metadata": {},
   "source": [
    "Важно убедиться, что временной ряд является стационарным перед применением методов прогнозирования. На этапе анализа можно выполнить тесты на стационарность, такие как тест Дики-Фуллера (Dickey-Fuller test), чтобы удостовериться, что ряд является стационарным или применить методы дифференцирования для стабилизации ряда, если необходимо."
   ]
  },
  {
   "cell_type": "code",
   "execution_count": null,
   "id": "42e5cf79",
   "metadata": {},
   "outputs": [],
   "source": [
    "from statsmodels.tsa.stattools import adfuller\n"
   ]
  },
  {
   "cell_type": "code",
   "execution_count": null,
   "id": "08390e1f",
   "metadata": {},
   "outputs": [],
   "source": [
    "# Тест Дики-Фуллера (ADF)\n",
    "result = adfuller(tweets_per_day)\n",
    "\n",
    "# Вывод результатов\n",
    "print('ADF Statistic:', result[0])\n",
    "print('p-value:', result[1])\n",
    "print('Critical Values:')\n",
    "for key, value in result[4].items():\n",
    "    print(f'   {key}: {value}')\n"
   ]
  },
  {
   "cell_type": "markdown",
   "id": "70c372d5",
   "metadata": {},
   "source": [
    "Выводы: В данном случае, ADF-статистика (-3.5773818190927917) меньше всех критических значений (-3.5778480370438146, -2.925338105429433, -2.6007735310095064) и p-значение (0.006208455957551378) меньше выбранного уровня значимости (например, 0.05). Это означает, что мы можем отвергнуть нулевую гипотезу о наличии единичного корня и считать временной ряд стационарным."
   ]
  },
  {
   "cell_type": "code",
   "execution_count": null,
   "id": "33f8bd68",
   "metadata": {},
   "outputs": [],
   "source": [
    "tweets_per_day.rename(columns={'text': 'tweet count'},inplace=True)\n",
    "sns.set()\n",
    "plt.ylabel('tweet count')\n",
    "plt.xlabel('date')\n",
    "plt.xticks(rotation=45)\n",
    "plt.plot(tweets_per_day.index, tweets_per_day['tweet count'], )\n",
    "plt.show()\n",
    "\n",
    "\n",
    "#Таким образом, код выполняет анализ и визуализацию количества твитов (tweet count) по дням на линейном графике с соответствующими осями и метками. \n",
    "#Поворот меток по оси X делает график более читаемым, особенно если даты представлены в формате, который может быть перегружен."
   ]
  },
  {
   "cell_type": "code",
   "execution_count": null,
   "id": "391487fa",
   "metadata": {},
   "outputs": [],
   "source": [
    "train = tweets_per_day[tweets_per_day.index < pd.to_datetime(\"2009-06-01\").date()]\n",
    "test = tweets_per_day[tweets_per_day.index >= pd.to_datetime(\"2009-06-01\").date()]\n",
    "test"
   ]
  },
  {
   "cell_type": "markdown",
   "id": "0f8bc065",
   "metadata": {},
   "source": [
    "Таким образом, после выполнения этого кода, переменная test будет содержать данные о твитах с 1 июня 2009 года и после этой даты, а переменная train будет содержать данные о твитах до 1 июня 2009 года, которые будут использоваться для обучения модели. Это позволяет нам проверить, насколько хорошо наша модель прогнозирует твиты на новых данных, которые не использовались в процессе обучения."
   ]
  },
  {
   "cell_type": "code",
   "execution_count": null,
   "id": "484ff68d",
   "metadata": {},
   "outputs": [],
   "source": [
    "from statsmodels.tsa.statespace.sarimax import SARIMAX\n",
    "\n",
    "y = train['tweet count']\n",
    "\n",
    "ARMAmodel = SARIMAX(y, order = (1, 0, 1), seasonal_order=(0, 1, 0, 7))\n",
    "ARMAmodel = ARMAmodel.fit()\n",
    "\n",
    "y_pred = ARMAmodel.get_forecast(len(test.index))\n",
    "y_pred_df = y_pred.conf_int(alpha = 0.05) \n",
    "y_pred_df[\"Predictions\"] = ARMAmodel.predict(start = y_pred_df.index[0], \n",
    "                                             end = y_pred_df.index[-1])\n",
    "y_pred_df.index = test.index\n",
    "y_pred_outARMA = y_pred_df[\"Predictions\"] \n",
    "\n",
    "plt.plot(train, color = \"black\", label = 'Training')\n",
    "plt.plot(test, color = \"red\", label = 'Testing')\n",
    "plt.ylabel('tweet count')\n",
    "plt.xlabel('date')\n",
    "plt.xticks(rotation=45)\n",
    "plt.title(\"Train/Test split for tweet count\")\n",
    "plt.plot(y_pred_outARMA, color='green', label = 'ARMA Predictions')\n",
    "plt.legend()\n",
    "plt.show()"
   ]
  },
  {
   "cell_type": "code",
   "execution_count": null,
   "id": "ab186e19",
   "metadata": {},
   "outputs": [],
   "source": [
    "# Создаем таблицу с прогнозами и реальными значениями\n",
    "forecast_table = pd.DataFrame({'Actual': test['tweet count'], 'Predicted': y_pred_outARMA})\n",
    "forecast_table.index.name = 'Date'\n",
    "\n",
    "# Создаем информационную панель для прогноза\n",
    "fig, ax = plt.subplots(figsize=(10, 6))\n",
    "\n",
    "# Построение таблицы\n",
    "ax.axis('off')\n",
    "ax.table(cellText=forecast_table.values, colLabels=forecast_table.columns, cellLoc='center', loc='center')\n",
    "table.set_fontsize(10)\n",
    "table.scale(1, 1.5) \n",
    "\n",
    "# Отображение заголовка таблицы\n",
    "ax.set_title('Прогноз количества твитов')"
   ]
  },
  {
   "cell_type": "code",
   "execution_count": null,
   "id": "02920c87",
   "metadata": {},
   "outputs": [],
   "source": []
  },
  {
   "cell_type": "code",
   "execution_count": null,
   "id": "099643d5",
   "metadata": {},
   "outputs": [],
   "source": []
  },
  {
   "cell_type": "code",
   "execution_count": null,
   "id": "6c8d6a37",
   "metadata": {},
   "outputs": [],
   "source": []
  },
  {
   "cell_type": "code",
   "execution_count": null,
   "id": "1342d7f2",
   "metadata": {},
   "outputs": [],
   "source": [
    "# Группируем данные по дате и считаем количество твиттов в каждый день\n",
    "#tweets_per_day = df_new.groupby(df_new['date'].dt.date)['text'].count()"
   ]
  },
  {
   "cell_type": "code",
   "execution_count": null,
   "id": "bc38d4ce",
   "metadata": {},
   "outputs": [],
   "source": [
    "#tweets_per_day.head(10)"
   ]
  },
  {
   "cell_type": "code",
   "execution_count": null,
   "id": "a5a23867",
   "metadata": {},
   "outputs": [],
   "source": [
    "#tweets_per_day = pd.DataFrame(tweets_per_day)"
   ]
  },
  {
   "cell_type": "code",
   "execution_count": null,
   "id": "8326ce9d",
   "metadata": {},
   "outputs": [],
   "source": [
    "#tweets_per_day.head(10)"
   ]
  },
  {
   "cell_type": "code",
   "execution_count": null,
   "id": "107d03ae",
   "metadata": {},
   "outputs": [],
   "source": [
    "#d_new.date.value_counts()"
   ]
  },
  {
   "cell_type": "markdown",
   "id": "2b2f3a09",
   "metadata": {},
   "source": [
    "tweets_per_day.index = pd.to_datetime(tweets_per_day['date'], format='%Y-%m-%d')\n",
    "del tweets_per_day['date']\n",
    "\n",
    "tweets_per_day.head(5)"
   ]
  },
  {
   "cell_type": "code",
   "execution_count": null,
   "id": "b2f87ca0",
   "metadata": {},
   "outputs": [],
   "source": []
  },
  {
   "cell_type": "markdown",
   "id": "684f0e9b",
   "metadata": {},
   "source": [
    "df_new1=df_new.drop(columns=['text'])\n",
    "df_new1.head()"
   ]
  },
  {
   "cell_type": "code",
   "execution_count": null,
   "id": "18d326bc",
   "metadata": {},
   "outputs": [],
   "source": [
    "#train = tweets_per_day[tweets_per_day.index < pd.to_datetime(\"2009-06-01\")]\n",
    "#test = tweets_per_day[tweets_per_day.index >= pd.to_datetime(\"2009-06-01\").date()]\n",
    "#test\n"
   ]
  },
  {
   "cell_type": "code",
   "execution_count": null,
   "id": "127f99cb",
   "metadata": {},
   "outputs": [],
   "source": [
    "#plt.plot(train, color = \"black\", label = 'Training')\n",
    "#plt.plot(test, color = \"red\", label = 'Testing')\n",
    "#plt.ylabel('User and text')\n",
    "#plt.xlabel('date')\n",
    "#plt.xticks(rotation=45)\n",
    "#plt.title(\"Train/Test split for twitter\")\n",
    "#plt.show()"
   ]
  },
  {
   "cell_type": "code",
   "execution_count": null,
   "id": "75348dad",
   "metadata": {},
   "outputs": [],
   "source": []
  },
  {
   "cell_type": "code",
   "execution_count": null,
   "id": "62896057",
   "metadata": {},
   "outputs": [],
   "source": []
  },
  {
   "cell_type": "code",
   "execution_count": null,
   "id": "65d24e3a",
   "metadata": {},
   "outputs": [],
   "source": [
    "#df.to_csv(\"df_time.csv\")"
   ]
  },
  {
   "cell_type": "code",
   "execution_count": null,
   "id": "59aff152",
   "metadata": {},
   "outputs": [],
   "source": [
    "#from pyspark.sql import SparkSession \n",
    "#spark = SparkSession.builder.appName(\"Jupyter Notebook\").getOrCreate()\n"
   ]
  },
  {
   "cell_type": "code",
   "execution_count": null,
   "id": "96253276",
   "metadata": {},
   "outputs": [],
   "source": [
    "#spark"
   ]
  },
  {
   "cell_type": "code",
   "execution_count": null,
   "id": "815d607a",
   "metadata": {},
   "outputs": [],
   "source": [
    "#sc = spark.sparkContext\n",
    "\n",
    "# Import regex module\n",
    "#import re\n",
    "#from operator import add\n",
    "\n",
    "# Read input file from hadoop directory\n",
    "# Copy a file from the local folder to hadoop folder\n",
    "#file_in = sc.textFile('/user1/ProjectTweets.csv')"
   ]
  },
  {
   "cell_type": "code",
   "execution_count": null,
   "id": "5ef11302",
   "metadata": {},
   "outputs": [],
   "source": []
  }
 ],
 "metadata": {
  "kernelspec": {
   "display_name": "Python 3 (ipykernel)",
   "language": "python",
   "name": "python3"
  },
  "language_info": {
   "codemirror_mode": {
    "name": "ipython",
    "version": 3
   },
   "file_extension": ".py",
   "mimetype": "text/x-python",
   "name": "python",
   "nbconvert_exporter": "python",
   "pygments_lexer": "ipython3",
   "version": "3.10.11"
  }
 },
 "nbformat": 4,
 "nbformat_minor": 5
}
