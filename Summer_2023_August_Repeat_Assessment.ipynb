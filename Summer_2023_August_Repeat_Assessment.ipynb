{
 "cells": [
  {
   "cell_type": "code",
   "execution_count": 1,
   "id": "b6306144",
   "metadata": {},
   "outputs": [],
   "source": [
    "# Importing the libraries \n",
    "\n",
    "import numpy as np\n",
    "import matplotlib.pyplot as plt\n",
    "import matplotlib.image as mpimg\n",
    "import pandas as pd\n",
    "# Importing libraries\n",
    "import pandas as pd\n",
    "import numpy as np\n",
    "import seaborn as sns\n",
    "import matplotlib\n",
    "\n",
    "%matplotlib inline\n",
    "sns.set(color_codes=True) \n",
    "# Load the libraries\n",
    "import numpy as np \n",
    "import pandas as pd \n",
    "import seaborn as sns\n",
    "import missingno as msno\n",
    "import re\n",
    "from matplotlib import pyplot as plt\n",
    "import matplotlib.pyplot as plt\n",
    "from warnings import filterwarnings\n",
    "filterwarnings('ignore')\n",
    "\n",
    "# Plots\n",
    "# ==============================================================================\n",
    "import matplotlib.pyplot as plt\n",
    "plt.style.use('fivethirtyeight')\n",
    "plt.rcParams['lines.linewidth'] = 1.5\n",
    "%matplotlib inline\n",
    "\n",
    "# Modeling and Forecasting\n",
    "# ==============================================================================\n",
    "from sklearn.linear_model import LinearRegression\n",
    "from sklearn.linear_model import Lasso\n",
    "from sklearn.ensemble import RandomForestRegressor\n",
    "from sklearn.metrics import mean_squared_error\n",
    "from sklearn.preprocessing import StandardScaler\n",
    "from sklearn.pipeline import make_pipeline\n",
    "\n",
    "from skforecast.ForecasterAutoreg import ForecasterAutoreg\n",
    "from skforecast.ForecasterAutoregCustom import ForecasterAutoregCustom\n",
    "from skforecast.ForecasterAutoregMultiOutput import ForecasterAutoregMultiOutput\n",
    "from skforecast.model_selection import grid_search_forecaster\n",
    "from skforecast.model_selection import backtesting_forecaster\n",
    "\n",
    "from joblib import dump, load\n",
    "\n",
    "# Warnings configuration\n",
    "# ==============================================================================\n",
    "import warnings\n",
    "# warnings.filterwarnings('ignore')\n",
    "\n",
    "\n",
    "from scipy.stats.mstats import winsorize\n",
    "import scipy.stats as stats\n"
   ]
  },
  {
   "cell_type": "code",
   "execution_count": 2,
   "id": "b12ed70f",
   "metadata": {},
   "outputs": [
    {
     "data": {
      "text/html": [
       "<div>\n",
       "<style scoped>\n",
       "    .dataframe tbody tr th:only-of-type {\n",
       "        vertical-align: middle;\n",
       "    }\n",
       "\n",
       "    .dataframe tbody tr th {\n",
       "        vertical-align: top;\n",
       "    }\n",
       "\n",
       "    .dataframe thead th {\n",
       "        text-align: right;\n",
       "    }\n",
       "</style>\n",
       "<table border=\"1\" class=\"dataframe\">\n",
       "  <thead>\n",
       "    <tr style=\"text-align: right;\">\n",
       "      <th></th>\n",
       "      <th>0</th>\n",
       "      <th>1467810369</th>\n",
       "      <th>Mon Apr 06 22:19:45 PDT 2009</th>\n",
       "      <th>NO_QUERY</th>\n",
       "      <th>_TheSpecialOne_</th>\n",
       "      <th>@switchfoot http://twitpic.com/2y1zl - Awww, that's a bummer.  You shoulda got David Carr of Third Day to do it. ;D</th>\n",
       "    </tr>\n",
       "  </thead>\n",
       "  <tbody>\n",
       "    <tr>\n",
       "      <th>0</th>\n",
       "      <td>1</td>\n",
       "      <td>1467810672</td>\n",
       "      <td>Mon Apr 06 22:19:49 PDT 2009</td>\n",
       "      <td>NO_QUERY</td>\n",
       "      <td>scotthamilton</td>\n",
       "      <td>is upset that he can't update his Facebook by ...</td>\n",
       "    </tr>\n",
       "    <tr>\n",
       "      <th>1</th>\n",
       "      <td>2</td>\n",
       "      <td>1467810917</td>\n",
       "      <td>Mon Apr 06 22:19:53 PDT 2009</td>\n",
       "      <td>NO_QUERY</td>\n",
       "      <td>mattycus</td>\n",
       "      <td>@Kenichan I dived many times for the ball. Man...</td>\n",
       "    </tr>\n",
       "    <tr>\n",
       "      <th>2</th>\n",
       "      <td>3</td>\n",
       "      <td>1467811184</td>\n",
       "      <td>Mon Apr 06 22:19:57 PDT 2009</td>\n",
       "      <td>NO_QUERY</td>\n",
       "      <td>ElleCTF</td>\n",
       "      <td>my whole body feels itchy and like its on fire</td>\n",
       "    </tr>\n",
       "    <tr>\n",
       "      <th>3</th>\n",
       "      <td>4</td>\n",
       "      <td>1467811193</td>\n",
       "      <td>Mon Apr 06 22:19:57 PDT 2009</td>\n",
       "      <td>NO_QUERY</td>\n",
       "      <td>Karoli</td>\n",
       "      <td>@nationwideclass no, it's not behaving at all....</td>\n",
       "    </tr>\n",
       "    <tr>\n",
       "      <th>4</th>\n",
       "      <td>5</td>\n",
       "      <td>1467811372</td>\n",
       "      <td>Mon Apr 06 22:20:00 PDT 2009</td>\n",
       "      <td>NO_QUERY</td>\n",
       "      <td>joy_wolf</td>\n",
       "      <td>@Kwesidei not the whole crew</td>\n",
       "    </tr>\n",
       "  </tbody>\n",
       "</table>\n",
       "</div>"
      ],
      "text/plain": [
       "   0  1467810369  Mon Apr 06 22:19:45 PDT 2009  NO_QUERY _TheSpecialOne_   \n",
       "0  1  1467810672  Mon Apr 06 22:19:49 PDT 2009  NO_QUERY   scotthamilton  \\\n",
       "1  2  1467810917  Mon Apr 06 22:19:53 PDT 2009  NO_QUERY        mattycus   \n",
       "2  3  1467811184  Mon Apr 06 22:19:57 PDT 2009  NO_QUERY         ElleCTF   \n",
       "3  4  1467811193  Mon Apr 06 22:19:57 PDT 2009  NO_QUERY          Karoli   \n",
       "4  5  1467811372  Mon Apr 06 22:20:00 PDT 2009  NO_QUERY        joy_wolf   \n",
       "\n",
       "  @switchfoot http://twitpic.com/2y1zl - Awww, that's a bummer.  You shoulda got David Carr of Third Day to do it. ;D  \n",
       "0  is upset that he can't update his Facebook by ...                                                                   \n",
       "1  @Kenichan I dived many times for the ball. Man...                                                                   \n",
       "2    my whole body feels itchy and like its on fire                                                                    \n",
       "3  @nationwideclass no, it's not behaving at all....                                                                   \n",
       "4                      @Kwesidei not the whole crew                                                                    "
      ]
     },
     "execution_count": 2,
     "metadata": {},
     "output_type": "execute_result"
    }
   ],
   "source": [
    "df = pd.read_csv('ProjectTweets.csv')\n",
    "# looking at the dataset\n",
    "df.head()"
   ]
  },
  {
   "cell_type": "code",
   "execution_count": 3,
   "id": "a9aa4360",
   "metadata": {},
   "outputs": [],
   "source": [
    "df.rename(columns={'0': 'number','1467810369':'id','Mon Apr 06 22:19:45 PDT 2009': 'date','NO_QUERY': 'flag','_TheSpecialOne_': 'user' }, inplace=True)\n",
    "\n"
   ]
  },
  {
   "cell_type": "code",
   "execution_count": 4,
   "id": "2502a532",
   "metadata": {},
   "outputs": [
    {
     "data": {
      "text/html": [
       "<div>\n",
       "<style scoped>\n",
       "    .dataframe tbody tr th:only-of-type {\n",
       "        vertical-align: middle;\n",
       "    }\n",
       "\n",
       "    .dataframe tbody tr th {\n",
       "        vertical-align: top;\n",
       "    }\n",
       "\n",
       "    .dataframe thead th {\n",
       "        text-align: right;\n",
       "    }\n",
       "</style>\n",
       "<table border=\"1\" class=\"dataframe\">\n",
       "  <thead>\n",
       "    <tr style=\"text-align: right;\">\n",
       "      <th></th>\n",
       "      <th>number</th>\n",
       "      <th>id</th>\n",
       "      <th>date</th>\n",
       "      <th>flag</th>\n",
       "      <th>user</th>\n",
       "      <th>@switchfoot http://twitpic.com/2y1zl - Awww, that's a bummer.  You shoulda got David Carr of Third Day to do it. ;D</th>\n",
       "    </tr>\n",
       "  </thead>\n",
       "  <tbody>\n",
       "    <tr>\n",
       "      <th>0</th>\n",
       "      <td>1</td>\n",
       "      <td>1467810672</td>\n",
       "      <td>Mon Apr 06 22:19:49 PDT 2009</td>\n",
       "      <td>NO_QUERY</td>\n",
       "      <td>scotthamilton</td>\n",
       "      <td>is upset that he can't update his Facebook by ...</td>\n",
       "    </tr>\n",
       "    <tr>\n",
       "      <th>1</th>\n",
       "      <td>2</td>\n",
       "      <td>1467810917</td>\n",
       "      <td>Mon Apr 06 22:19:53 PDT 2009</td>\n",
       "      <td>NO_QUERY</td>\n",
       "      <td>mattycus</td>\n",
       "      <td>@Kenichan I dived many times for the ball. Man...</td>\n",
       "    </tr>\n",
       "    <tr>\n",
       "      <th>2</th>\n",
       "      <td>3</td>\n",
       "      <td>1467811184</td>\n",
       "      <td>Mon Apr 06 22:19:57 PDT 2009</td>\n",
       "      <td>NO_QUERY</td>\n",
       "      <td>ElleCTF</td>\n",
       "      <td>my whole body feels itchy and like its on fire</td>\n",
       "    </tr>\n",
       "    <tr>\n",
       "      <th>3</th>\n",
       "      <td>4</td>\n",
       "      <td>1467811193</td>\n",
       "      <td>Mon Apr 06 22:19:57 PDT 2009</td>\n",
       "      <td>NO_QUERY</td>\n",
       "      <td>Karoli</td>\n",
       "      <td>@nationwideclass no, it's not behaving at all....</td>\n",
       "    </tr>\n",
       "    <tr>\n",
       "      <th>4</th>\n",
       "      <td>5</td>\n",
       "      <td>1467811372</td>\n",
       "      <td>Mon Apr 06 22:20:00 PDT 2009</td>\n",
       "      <td>NO_QUERY</td>\n",
       "      <td>joy_wolf</td>\n",
       "      <td>@Kwesidei not the whole crew</td>\n",
       "    </tr>\n",
       "  </tbody>\n",
       "</table>\n",
       "</div>"
      ],
      "text/plain": [
       "   number          id                          date      flag           user   \n",
       "0       1  1467810672  Mon Apr 06 22:19:49 PDT 2009  NO_QUERY  scotthamilton  \\\n",
       "1       2  1467810917  Mon Apr 06 22:19:53 PDT 2009  NO_QUERY       mattycus   \n",
       "2       3  1467811184  Mon Apr 06 22:19:57 PDT 2009  NO_QUERY        ElleCTF   \n",
       "3       4  1467811193  Mon Apr 06 22:19:57 PDT 2009  NO_QUERY         Karoli   \n",
       "4       5  1467811372  Mon Apr 06 22:20:00 PDT 2009  NO_QUERY       joy_wolf   \n",
       "\n",
       "  @switchfoot http://twitpic.com/2y1zl - Awww, that's a bummer.  You shoulda got David Carr of Third Day to do it. ;D  \n",
       "0  is upset that he can't update his Facebook by ...                                                                   \n",
       "1  @Kenichan I dived many times for the ball. Man...                                                                   \n",
       "2    my whole body feels itchy and like its on fire                                                                    \n",
       "3  @nationwideclass no, it's not behaving at all....                                                                   \n",
       "4                      @Kwesidei not the whole crew                                                                    "
      ]
     },
     "execution_count": 4,
     "metadata": {},
     "output_type": "execute_result"
    }
   ],
   "source": [
    "df.head()"
   ]
  },
  {
   "cell_type": "code",
   "execution_count": 5,
   "id": "38acffe1",
   "metadata": {},
   "outputs": [
    {
     "data": {
      "text/html": [
       "<div>\n",
       "<style scoped>\n",
       "    .dataframe tbody tr th:only-of-type {\n",
       "        vertical-align: middle;\n",
       "    }\n",
       "\n",
       "    .dataframe tbody tr th {\n",
       "        vertical-align: top;\n",
       "    }\n",
       "\n",
       "    .dataframe thead th {\n",
       "        text-align: right;\n",
       "    }\n",
       "</style>\n",
       "<table border=\"1\" class=\"dataframe\">\n",
       "  <thead>\n",
       "    <tr style=\"text-align: right;\">\n",
       "      <th></th>\n",
       "      <th>number</th>\n",
       "      <th>id</th>\n",
       "      <th>date</th>\n",
       "      <th>flag</th>\n",
       "      <th>user</th>\n",
       "      <th>text</th>\n",
       "    </tr>\n",
       "  </thead>\n",
       "  <tbody>\n",
       "    <tr>\n",
       "      <th>0</th>\n",
       "      <td>1</td>\n",
       "      <td>1467810672</td>\n",
       "      <td>Mon Apr 06 22:19:49 PDT 2009</td>\n",
       "      <td>NO_QUERY</td>\n",
       "      <td>scotthamilton</td>\n",
       "      <td>is upset that he can't update his Facebook by ...</td>\n",
       "    </tr>\n",
       "    <tr>\n",
       "      <th>1</th>\n",
       "      <td>2</td>\n",
       "      <td>1467810917</td>\n",
       "      <td>Mon Apr 06 22:19:53 PDT 2009</td>\n",
       "      <td>NO_QUERY</td>\n",
       "      <td>mattycus</td>\n",
       "      <td>@Kenichan I dived many times for the ball. Man...</td>\n",
       "    </tr>\n",
       "    <tr>\n",
       "      <th>2</th>\n",
       "      <td>3</td>\n",
       "      <td>1467811184</td>\n",
       "      <td>Mon Apr 06 22:19:57 PDT 2009</td>\n",
       "      <td>NO_QUERY</td>\n",
       "      <td>ElleCTF</td>\n",
       "      <td>my whole body feels itchy and like its on fire</td>\n",
       "    </tr>\n",
       "    <tr>\n",
       "      <th>3</th>\n",
       "      <td>4</td>\n",
       "      <td>1467811193</td>\n",
       "      <td>Mon Apr 06 22:19:57 PDT 2009</td>\n",
       "      <td>NO_QUERY</td>\n",
       "      <td>Karoli</td>\n",
       "      <td>@nationwideclass no, it's not behaving at all....</td>\n",
       "    </tr>\n",
       "    <tr>\n",
       "      <th>4</th>\n",
       "      <td>5</td>\n",
       "      <td>1467811372</td>\n",
       "      <td>Mon Apr 06 22:20:00 PDT 2009</td>\n",
       "      <td>NO_QUERY</td>\n",
       "      <td>joy_wolf</td>\n",
       "      <td>@Kwesidei not the whole crew</td>\n",
       "    </tr>\n",
       "  </tbody>\n",
       "</table>\n",
       "</div>"
      ],
      "text/plain": [
       "   number          id                          date      flag           user   \n",
       "0       1  1467810672  Mon Apr 06 22:19:49 PDT 2009  NO_QUERY  scotthamilton  \\\n",
       "1       2  1467810917  Mon Apr 06 22:19:53 PDT 2009  NO_QUERY       mattycus   \n",
       "2       3  1467811184  Mon Apr 06 22:19:57 PDT 2009  NO_QUERY        ElleCTF   \n",
       "3       4  1467811193  Mon Apr 06 22:19:57 PDT 2009  NO_QUERY         Karoli   \n",
       "4       5  1467811372  Mon Apr 06 22:20:00 PDT 2009  NO_QUERY       joy_wolf   \n",
       "\n",
       "                                                text  \n",
       "0  is upset that he can't update his Facebook by ...  \n",
       "1  @Kenichan I dived many times for the ball. Man...  \n",
       "2    my whole body feels itchy and like its on fire   \n",
       "3  @nationwideclass no, it's not behaving at all....  \n",
       "4                      @Kwesidei not the whole crew   "
      ]
     },
     "execution_count": 5,
     "metadata": {},
     "output_type": "execute_result"
    }
   ],
   "source": [
    "new_column_name = 'text'\n",
    "df.rename(columns={df.columns[5]: new_column_name}, inplace=True)\n",
    "\n",
    "df.head()"
   ]
  },
  {
   "cell_type": "code",
   "execution_count": 6,
   "id": "25c4c31c",
   "metadata": {},
   "outputs": [
    {
     "data": {
      "text/plain": [
       "flag\n",
       "NO_QUERY    1599999\n",
       "Name: count, dtype: int64"
      ]
     },
     "execution_count": 6,
     "metadata": {},
     "output_type": "execute_result"
    }
   ],
   "source": [
    "df['flag'].value_counts()"
   ]
  },
  {
   "cell_type": "code",
   "execution_count": 7,
   "id": "fe4ba6e2",
   "metadata": {},
   "outputs": [
    {
     "data": {
      "text/html": [
       "<div>\n",
       "<style scoped>\n",
       "    .dataframe tbody tr th:only-of-type {\n",
       "        vertical-align: middle;\n",
       "    }\n",
       "\n",
       "    .dataframe tbody tr th {\n",
       "        vertical-align: top;\n",
       "    }\n",
       "\n",
       "    .dataframe thead th {\n",
       "        text-align: right;\n",
       "    }\n",
       "</style>\n",
       "<table border=\"1\" class=\"dataframe\">\n",
       "  <thead>\n",
       "    <tr style=\"text-align: right;\">\n",
       "      <th></th>\n",
       "      <th>date</th>\n",
       "      <th>user</th>\n",
       "      <th>text</th>\n",
       "    </tr>\n",
       "  </thead>\n",
       "  <tbody>\n",
       "    <tr>\n",
       "      <th>0</th>\n",
       "      <td>Mon Apr 06 22:19:49 PDT 2009</td>\n",
       "      <td>scotthamilton</td>\n",
       "      <td>is upset that he can't update his Facebook by ...</td>\n",
       "    </tr>\n",
       "    <tr>\n",
       "      <th>1</th>\n",
       "      <td>Mon Apr 06 22:19:53 PDT 2009</td>\n",
       "      <td>mattycus</td>\n",
       "      <td>@Kenichan I dived many times for the ball. Man...</td>\n",
       "    </tr>\n",
       "    <tr>\n",
       "      <th>2</th>\n",
       "      <td>Mon Apr 06 22:19:57 PDT 2009</td>\n",
       "      <td>ElleCTF</td>\n",
       "      <td>my whole body feels itchy and like its on fire</td>\n",
       "    </tr>\n",
       "    <tr>\n",
       "      <th>3</th>\n",
       "      <td>Mon Apr 06 22:19:57 PDT 2009</td>\n",
       "      <td>Karoli</td>\n",
       "      <td>@nationwideclass no, it's not behaving at all....</td>\n",
       "    </tr>\n",
       "    <tr>\n",
       "      <th>4</th>\n",
       "      <td>Mon Apr 06 22:20:00 PDT 2009</td>\n",
       "      <td>joy_wolf</td>\n",
       "      <td>@Kwesidei not the whole crew</td>\n",
       "    </tr>\n",
       "  </tbody>\n",
       "</table>\n",
       "</div>"
      ],
      "text/plain": [
       "                           date           user   \n",
       "0  Mon Apr 06 22:19:49 PDT 2009  scotthamilton  \\\n",
       "1  Mon Apr 06 22:19:53 PDT 2009       mattycus   \n",
       "2  Mon Apr 06 22:19:57 PDT 2009        ElleCTF   \n",
       "3  Mon Apr 06 22:19:57 PDT 2009         Karoli   \n",
       "4  Mon Apr 06 22:20:00 PDT 2009       joy_wolf   \n",
       "\n",
       "                                                text  \n",
       "0  is upset that he can't update his Facebook by ...  \n",
       "1  @Kenichan I dived many times for the ball. Man...  \n",
       "2    my whole body feels itchy and like its on fire   \n",
       "3  @nationwideclass no, it's not behaving at all....  \n",
       "4                      @Kwesidei not the whole crew   "
      ]
     },
     "execution_count": 7,
     "metadata": {},
     "output_type": "execute_result"
    }
   ],
   "source": [
    "df=df.drop(columns=['number','id', 'flag'])\n",
    "df.head()"
   ]
  },
  {
   "cell_type": "code",
   "execution_count": 8,
   "id": "2ed9fffe",
   "metadata": {},
   "outputs": [],
   "source": [
    "df_for_clean= df \n",
    "df_for_clean.to_csv('df_for_clean.csv', index=False)"
   ]
  },
  {
   "cell_type": "code",
   "execution_count": 9,
   "id": "942b8482",
   "metadata": {},
   "outputs": [
    {
     "data": {
      "text/plain": [
       "0          is upset that he can't update his facebook by ...\n",
       "1          @kenichan i dived many times for the ball. man...\n",
       "2            my whole body feels itchy and like its on fire \n",
       "3          @nationwideclass no, it's not behaving at all....\n",
       "4                              @kwesidei not the whole crew \n",
       "                                 ...                        \n",
       "1599994    just woke up. having no school is the best fee...\n",
       "1599995    thewdb.com - very cool to hear old walt interv...\n",
       "1599996    are you ready for your mojo makeover? ask me f...\n",
       "1599997    happy 38th birthday to my boo of alll time!!! ...\n",
       "1599998    happy #charitytuesday @thenspcc @sparkscharity...\n",
       "Name: text, Length: 1599999, dtype: object"
      ]
     },
     "execution_count": 9,
     "metadata": {},
     "output_type": "execute_result"
    }
   ],
   "source": [
    "# Text transformation to lowercase\n",
    "df['text'] =df['text'].str.lower()\n",
    "df['text']"
   ]
  },
  {
   "cell_type": "code",
   "execution_count": 10,
   "id": "6e2f28e9",
   "metadata": {},
   "outputs": [
    {
     "data": {
      "text/plain": [
       "0          is upset that he can't update his facebook by ...\n",
       "1          @kenichan i dived many times for the ball. man...\n",
       "2            my whole body feels itchy and like its on fire \n",
       "3          @nationwideclass no, it's not behaving at all....\n",
       "4                              @kwesidei not the whole crew \n",
       "                                 ...                        \n",
       "1599994    just woke up. having no school is the best fee...\n",
       "1599995    thewdb.com - very cool to hear old walt interv...\n",
       "1599996    are you ready for your mojo makeover? ask me f...\n",
       "1599997    happy 38th birthday to my boo of alll time!!! ...\n",
       "1599998    happy #charitytuesday @thenspcc @sparkscharity...\n",
       "Name: text, Length: 1599999, dtype: object"
      ]
     },
     "execution_count": 10,
     "metadata": {},
     "output_type": "execute_result"
    }
   ],
   "source": [
    "# URL removal from text\n",
    "df['text'] = df['text'].apply(lambda x:re.sub(r\"http\\S+\", \"\", x))\n",
    "df[\"text\"]"
   ]
  },
  {
   "cell_type": "code",
   "execution_count": 11,
   "id": "7f4c01ab",
   "metadata": {},
   "outputs": [],
   "source": [
    "import string"
   ]
  },
  {
   "cell_type": "code",
   "execution_count": 12,
   "id": "de3880e5",
   "metadata": {},
   "outputs": [
    {
     "data": {
      "text/plain": [
       "0          is upset that he cant update his facebook by t...\n",
       "1          kenichan i dived many times for the ball manag...\n",
       "2            my whole body feels itchy and like its on fire \n",
       "3          nationwideclass no its not behaving at all im ...\n",
       "4                               kwesidei not the whole crew \n",
       "                                 ...                        \n",
       "1599994    just woke up having no school is the best feel...\n",
       "1599995    thewdbcom  very cool to hear old walt intervie...\n",
       "1599996    are you ready for your mojo makeover ask me fo...\n",
       "1599997    happy 38th birthday to my boo of alll time tup...\n",
       "1599998    happy charitytuesday thenspcc sparkscharity sp...\n",
       "Name: text, Length: 1599999, dtype: object"
      ]
     },
     "execution_count": 12,
     "metadata": {},
     "output_type": "execute_result"
    }
   ],
   "source": [
    "# Punctuation from text\n",
    "punctuation_removal = string.punctuation\n",
    "def remove_punctuation(text):\n",
    "    \"\"\"custom function to remove the punctuation\"\"\"\n",
    "    return text.translate(str.maketrans('', '', punctuation_removal))\n",
    "df[\"text\"] = df[\"text\"].apply(lambda text: remove_punctuation(text))\n",
    "df[\"text\"]"
   ]
  },
  {
   "cell_type": "code",
   "execution_count": 13,
   "id": "d21d9b8a",
   "metadata": {},
   "outputs": [
    {
     "data": {
      "text/plain": [
       "0          is upset that he cant update his facebook by t...\n",
       "1          kenichandived many times for the ball managed ...\n",
       "2            my whole body feels itchy and like its on fire \n",
       "3          nationwideclass no its not behaving at all im ...\n",
       "4                               kwesidei not the whole crew \n",
       "                                 ...                        \n",
       "1599994    just woke up having no school is the best feel...\n",
       "1599995    thewdbcom very cool to hear old walt interview...\n",
       "1599996    are you ready for your mojo makeover ask me fo...\n",
       "1599997    happy 38th birthday to my boo of alll time tup...\n",
       "1599998    happy charitytuesday thenspcc sparkscharity sp...\n",
       "Name: text, Length: 1599999, dtype: object"
      ]
     },
     "execution_count": 13,
     "metadata": {},
     "output_type": "execute_result"
    }
   ],
   "source": [
    "# Single character and double space removal from the text\n",
    "df[\"text\"] = df[\"text\"].apply(lambda x:re.sub(r'\\s+[a-zA-Z]\\s+', '', x))\n",
    "df[\"text\"] = df[\"text\"].apply(lambda x:re.sub(r'\\s+', ' ', x, flags=re.I))\n",
    "df[\"text\"]"
   ]
  },
  {
   "cell_type": "code",
   "execution_count": 14,
   "id": "41a3f1d0",
   "metadata": {},
   "outputs": [
    {
     "data": {
      "text/plain": [
       "0          is upset that he cant update his facebook by t...\n",
       "1          kenichandived many times for the ball managed ...\n",
       "2            my whole body feels itchy and like its on fire \n",
       "3          nationwideclass no its not behaving at all im ...\n",
       "4                               kwesidei not the whole crew \n",
       "                                 ...                        \n",
       "1599994    just woke up having no school is the best feel...\n",
       "1599995    thewdbcom very cool to hear old walt interview...\n",
       "1599996    are you ready for your mojo makeover ask me fo...\n",
       "1599997    happy 38th birthday to my boo of alll time tup...\n",
       "1599998    happy charitytuesday thenspcc sparkscharity sp...\n",
       "Name: text, Length: 1599999, dtype: object"
      ]
     },
     "execution_count": 14,
     "metadata": {},
     "output_type": "execute_result"
    }
   ],
   "source": [
    "# Emoji Removal\n",
    "def remove_emoji(string):\n",
    "    emoji_pattern = re.compile(\"[\"\n",
    "                               u\"\\U0001F600-\\U0001F64F\"  # emoticons\n",
    "                               u\"\\U0001F300-\\U0001F5FF\"  # symbols & pictographs\n",
    "                               u\"\\U0001F680-\\U0001F6FF\"  # transport & map symbols\n",
    "                               u\"\\U0001F1E0-\\U0001F1FF\"  # flags (iOS)\n",
    "                               u\"\\U00002500-\\U00002BEF\"  # chinese char\n",
    "                               u\"\\U00002702-\\U000027B0\"\n",
    "                               u\"\\U00002702-\\U000027B0\"\n",
    "                               u\"\\U000024C2-\\U0001F251\"\n",
    "                               u\"\\U0001f926-\\U0001f937\"\n",
    "                               u\"\\U00010000-\\U0010ffff\"\n",
    "                               u\"\\u2640-\\u2642\"\n",
    "                               u\"\\u2600-\\u2B55\"\n",
    "                               u\"\\u200d\"\n",
    "                               u\"\\u23cf\"\n",
    "                               u\"\\u23e9\"\n",
    "                               u\"\\u231a\"\n",
    "                               u\"\\ufe0f\"  # dingbats\n",
    "                               u\"\\u3030\"\n",
    "                               \"]+\", flags=re.UNICODE)\n",
    "    return emoji_pattern.sub(r'', string)\n",
    "df[\"text\"] = df[\"text\"].apply(str)\n",
    "df[\"text\"] = df[\"text\"].apply(remove_emoji)\n",
    "df[\"text\"]"
   ]
  },
  {
   "cell_type": "code",
   "execution_count": 15,
   "id": "622f9ff1",
   "metadata": {},
   "outputs": [
    {
     "data": {
      "text/plain": [
       "0          is upset that he cant update his facebook by t...\n",
       "1          kenichandived many times for the ball managed ...\n",
       "2            my whole body feels itchy and like its on fire \n",
       "3          nationwideclass no its not behaving at all im ...\n",
       "4                               kwesidei not the whole crew \n",
       "                                 ...                        \n",
       "1599994    just woke up having no school is the best feel...\n",
       "1599995    thewdbcom very cool to hear old walt interview...\n",
       "1599996    are you ready for your mojo makeover ask me fo...\n",
       "1599997    happy 38th birthday to my boo of alll time tup...\n",
       "1599998    happy charitytuesday thenspcc sparkscharity sp...\n",
       "Name: text, Length: 1599999, dtype: object"
      ]
     },
     "execution_count": 15,
     "metadata": {},
     "output_type": "execute_result"
    }
   ],
   "source": [
    "# Single character and double space removal from text\n",
    "df[\"text\"] = df[\"text\"].apply(lambda x:re.sub(r'\\s+[a-zA-Z]\\s+', '', x))\n",
    "df[\"text\"] = df[\"text\"].apply(lambda x:re.sub(r'\\s+', ' ', x, flags=re.I))\n",
    "df[\"text\"]"
   ]
  },
  {
   "cell_type": "code",
   "execution_count": 16,
   "id": "fcb6e965",
   "metadata": {},
   "outputs": [
    {
     "data": {
      "text/plain": [
       "[('to', 556063),\n",
       " ('the', 517438),\n",
       " ('my', 312073),\n",
       " ('you', 263475),\n",
       " ('and', 263066),\n",
       " ('it', 223549),\n",
       " ('is', 223104),\n",
       " ('in', 197411),\n",
       " ('for', 195146),\n",
       " ('of', 176815)]"
      ]
     },
     "execution_count": 16,
     "metadata": {},
     "output_type": "execute_result"
    }
   ],
   "source": [
    "# Most common words in the text\n",
    "from collections import Counter\n",
    "cnt = Counter()\n",
    "for text in df[\"text\"].values:\n",
    "    for word in text.split():\n",
    "        cnt[word] += 1\n",
    "        \n",
    "cnt.most_common(10)"
   ]
  },
  {
   "cell_type": "code",
   "execution_count": 17,
   "id": "97ca0cdb",
   "metadata": {},
   "outputs": [
    {
     "data": {
      "text/html": [
       "<div>\n",
       "<style scoped>\n",
       "    .dataframe tbody tr th:only-of-type {\n",
       "        vertical-align: middle;\n",
       "    }\n",
       "\n",
       "    .dataframe tbody tr th {\n",
       "        vertical-align: top;\n",
       "    }\n",
       "\n",
       "    .dataframe thead th {\n",
       "        text-align: right;\n",
       "    }\n",
       "</style>\n",
       "<table border=\"1\" class=\"dataframe\">\n",
       "  <thead>\n",
       "    <tr style=\"text-align: right;\">\n",
       "      <th></th>\n",
       "      <th>date</th>\n",
       "      <th>user</th>\n",
       "      <th>text</th>\n",
       "    </tr>\n",
       "  </thead>\n",
       "  <tbody>\n",
       "    <tr>\n",
       "      <th>0</th>\n",
       "      <td>Mon Apr 06 22:19:49 PDT 2009</td>\n",
       "      <td>scotthamilton</td>\n",
       "      <td>is upset that he cant update his facebook by t...</td>\n",
       "    </tr>\n",
       "    <tr>\n",
       "      <th>1</th>\n",
       "      <td>Mon Apr 06 22:19:53 PDT 2009</td>\n",
       "      <td>mattycus</td>\n",
       "      <td>kenichandived many times for the ball managed ...</td>\n",
       "    </tr>\n",
       "    <tr>\n",
       "      <th>2</th>\n",
       "      <td>Mon Apr 06 22:19:57 PDT 2009</td>\n",
       "      <td>ElleCTF</td>\n",
       "      <td>my whole body feels itchy and like its on fire</td>\n",
       "    </tr>\n",
       "    <tr>\n",
       "      <th>3</th>\n",
       "      <td>Mon Apr 06 22:19:57 PDT 2009</td>\n",
       "      <td>Karoli</td>\n",
       "      <td>nationwideclass no its not behaving at all im ...</td>\n",
       "    </tr>\n",
       "    <tr>\n",
       "      <th>4</th>\n",
       "      <td>Mon Apr 06 22:20:00 PDT 2009</td>\n",
       "      <td>joy_wolf</td>\n",
       "      <td>kwesidei not the whole crew</td>\n",
       "    </tr>\n",
       "  </tbody>\n",
       "</table>\n",
       "</div>"
      ],
      "text/plain": [
       "                           date           user   \n",
       "0  Mon Apr 06 22:19:49 PDT 2009  scotthamilton  \\\n",
       "1  Mon Apr 06 22:19:53 PDT 2009       mattycus   \n",
       "2  Mon Apr 06 22:19:57 PDT 2009        ElleCTF   \n",
       "3  Mon Apr 06 22:19:57 PDT 2009         Karoli   \n",
       "4  Mon Apr 06 22:20:00 PDT 2009       joy_wolf   \n",
       "\n",
       "                                                text  \n",
       "0  is upset that he cant update his facebook by t...  \n",
       "1  kenichandived many times for the ball managed ...  \n",
       "2    my whole body feels itchy and like its on fire   \n",
       "3  nationwideclass no its not behaving at all im ...  \n",
       "4                       kwesidei not the whole crew   "
      ]
     },
     "execution_count": 17,
     "metadata": {},
     "output_type": "execute_result"
    }
   ],
   "source": [
    "df_new=df\n",
    "df_new.head()"
   ]
  },
  {
   "cell_type": "code",
   "execution_count": 18,
   "id": "b0cee651",
   "metadata": {},
   "outputs": [
    {
     "data": {
      "text/plain": [
       "user\n",
       "lost_dog           549\n",
       "webwoke            345\n",
       "tweetpet           310\n",
       "SallytheShizzle    281\n",
       "VioletsCRUK        279\n",
       "                  ... \n",
       "iheartrobpattz       1\n",
       "67trinity            1\n",
       "Sibby                1\n",
       "mAnyA_15             1\n",
       "bpbabe               1\n",
       "Name: count, Length: 659775, dtype: int64"
      ]
     },
     "execution_count": 18,
     "metadata": {},
     "output_type": "execute_result"
    }
   ],
   "source": [
    "df_new.user.value_counts()"
   ]
  },
  {
   "cell_type": "code",
   "execution_count": 19,
   "id": "ce946a8e",
   "metadata": {},
   "outputs": [],
   "source": [
    "# df_new.to_csv('df_new.txt', sep='\\t', index=False)"
   ]
  },
  {
   "cell_type": "markdown",
   "id": "fb8245f3",
   "metadata": {},
   "source": [
    "We will calculate the frequency of occurrence of users in the 'user' column of the dataframe df_new \n",
    "and display the top 10 most frequently occurring users along with their tweet counts."
   ]
  },
  {
   "cell_type": "code",
   "execution_count": 20,
   "id": "3f36994a",
   "metadata": {},
   "outputs": [
    {
     "data": {
      "text/plain": [
       "[('lost_dog', 549),\n",
       " ('webwoke', 345),\n",
       " ('tweetpet', 310),\n",
       " ('SallytheShizzle', 281),\n",
       " ('VioletsCRUK', 279),\n",
       " ('mcraddictal', 276),\n",
       " ('tsarnick', 248),\n",
       " ('what_bugs_u', 246),\n",
       " ('Karen230683', 238),\n",
       " ('DarkPiano', 236)]"
      ]
     },
     "execution_count": 20,
     "metadata": {},
     "output_type": "execute_result"
    }
   ],
   "source": [
    "# top 10 users\n",
    "from collections import Counter\n",
    "cnt = Counter()\n",
    "for text in df_new[\"user\"].values:\n",
    "    for word in text.split():\n",
    "        cnt[word] += 1\n",
    "        \n",
    "cnt.most_common(10)"
   ]
  },
  {
   "cell_type": "code",
   "execution_count": 21,
   "id": "1d1cdcc4",
   "metadata": {},
   "outputs": [],
   "source": [
    "top_10_users = cnt.most_common(10)"
   ]
  },
  {
   "cell_type": "code",
   "execution_count": 22,
   "id": "19aaed1c",
   "metadata": {},
   "outputs": [
    {
     "name": "stdout",
     "output_type": "stream",
     "text": [
      "              User  Tweet count\n",
      "0         lost_dog          549\n",
      "1          webwoke          345\n",
      "2         tweetpet          310\n",
      "3  SallytheShizzle          281\n",
      "4      VioletsCRUK          279\n",
      "5      mcraddictal          276\n",
      "6         tsarnick          248\n",
      "7      what_bugs_u          246\n",
      "8      Karen230683          238\n",
      "9        DarkPiano          236\n"
     ]
    }
   ],
   "source": [
    "top_10_users = pd.DataFrame(top_10_users, columns=[\"User\", \"Tweet count\"])\n",
    "\n",
    "# Table output\n",
    "print(top_10_users)"
   ]
  },
  {
   "cell_type": "code",
   "execution_count": 23,
   "id": "55f7b1b8",
   "metadata": {},
   "outputs": [
    {
     "data": {
      "text/html": [
       "<div>\n",
       "<style scoped>\n",
       "    .dataframe tbody tr th:only-of-type {\n",
       "        vertical-align: middle;\n",
       "    }\n",
       "\n",
       "    .dataframe tbody tr th {\n",
       "        vertical-align: top;\n",
       "    }\n",
       "\n",
       "    .dataframe thead th {\n",
       "        text-align: right;\n",
       "    }\n",
       "</style>\n",
       "<table border=\"1\" class=\"dataframe\">\n",
       "  <thead>\n",
       "    <tr style=\"text-align: right;\">\n",
       "      <th></th>\n",
       "      <th>User</th>\n",
       "      <th>Tweet count</th>\n",
       "    </tr>\n",
       "  </thead>\n",
       "  <tbody>\n",
       "    <tr>\n",
       "      <th>0</th>\n",
       "      <td>lost_dog</td>\n",
       "      <td>549</td>\n",
       "    </tr>\n",
       "    <tr>\n",
       "      <th>1</th>\n",
       "      <td>webwoke</td>\n",
       "      <td>345</td>\n",
       "    </tr>\n",
       "    <tr>\n",
       "      <th>2</th>\n",
       "      <td>tweetpet</td>\n",
       "      <td>310</td>\n",
       "    </tr>\n",
       "    <tr>\n",
       "      <th>3</th>\n",
       "      <td>SallytheShizzle</td>\n",
       "      <td>281</td>\n",
       "    </tr>\n",
       "    <tr>\n",
       "      <th>4</th>\n",
       "      <td>VioletsCRUK</td>\n",
       "      <td>279</td>\n",
       "    </tr>\n",
       "    <tr>\n",
       "      <th>5</th>\n",
       "      <td>mcraddictal</td>\n",
       "      <td>276</td>\n",
       "    </tr>\n",
       "    <tr>\n",
       "      <th>6</th>\n",
       "      <td>tsarnick</td>\n",
       "      <td>248</td>\n",
       "    </tr>\n",
       "    <tr>\n",
       "      <th>7</th>\n",
       "      <td>what_bugs_u</td>\n",
       "      <td>246</td>\n",
       "    </tr>\n",
       "    <tr>\n",
       "      <th>8</th>\n",
       "      <td>Karen230683</td>\n",
       "      <td>238</td>\n",
       "    </tr>\n",
       "    <tr>\n",
       "      <th>9</th>\n",
       "      <td>DarkPiano</td>\n",
       "      <td>236</td>\n",
       "    </tr>\n",
       "  </tbody>\n",
       "</table>\n",
       "</div>"
      ],
      "text/plain": [
       "              User  Tweet count\n",
       "0         lost_dog          549\n",
       "1          webwoke          345\n",
       "2         tweetpet          310\n",
       "3  SallytheShizzle          281\n",
       "4      VioletsCRUK          279\n",
       "5      mcraddictal          276\n",
       "6         tsarnick          248\n",
       "7      what_bugs_u          246\n",
       "8      Karen230683          238\n",
       "9        DarkPiano          236"
      ]
     },
     "execution_count": 23,
     "metadata": {},
     "output_type": "execute_result"
    }
   ],
   "source": [
    "top_10_users.head(10)"
   ]
  },
  {
   "cell_type": "code",
   "execution_count": 24,
   "id": "28a194ee",
   "metadata": {},
   "outputs": [
    {
     "data": {
      "image/png": "[encoded data removed]",
      "text/plain": [
       "<Figure size 1000x600 with 1 Axes>"
      ]
     },
     "metadata": {},
     "output_type": "display_data"
    }
   ],
   "source": [
    "# Getting Data for a Graph\n",
    "user_counts = cnt.most_common(10)\n",
    "users = [user[0] for user in user_counts]\n",
    "tweet_counts = [user[1] for user in user_counts]\n",
    "\n",
    "# Creating a Graph\n",
    "plt.figure(figsize=(10, 6))\n",
    "plt.bar(users, tweet_counts)\n",
    "plt.xlabel(\"User\")\n",
    "plt.ylabel(\"Tweet Count\")\n",
    "plt.title(\"Top 10 Users by Tweet Count\")\n",
    "plt.xticks(rotation=45)\n",
    "plt.tight_layout()\n",
    "\n",
    "# Graph display\n",
    "plt.show()\n",
    "\n",
    "\n",
    "\n"
   ]
  },
  {
   "cell_type": "code",
   "execution_count": 25,
   "id": "edb6fec1",
   "metadata": {},
   "outputs": [],
   "source": [
    "#msno.matrix(df) \n",
    "\n",
    "#no missing data found in dataframe"
   ]
  },
  {
   "cell_type": "code",
   "execution_count": 26,
   "id": "eab46f23",
   "metadata": {},
   "outputs": [
    {
     "data": {
      "text/html": [
       "<div>\n",
       "<style scoped>\n",
       "    .dataframe tbody tr th:only-of-type {\n",
       "        vertical-align: middle;\n",
       "    }\n",
       "\n",
       "    .dataframe tbody tr th {\n",
       "        vertical-align: top;\n",
       "    }\n",
       "\n",
       "    .dataframe thead th {\n",
       "        text-align: right;\n",
       "    }\n",
       "</style>\n",
       "<table border=\"1\" class=\"dataframe\">\n",
       "  <thead>\n",
       "    <tr style=\"text-align: right;\">\n",
       "      <th></th>\n",
       "      <th>date</th>\n",
       "      <th>user</th>\n",
       "      <th>text</th>\n",
       "    </tr>\n",
       "  </thead>\n",
       "  <tbody>\n",
       "    <tr>\n",
       "      <th>0</th>\n",
       "      <td>Mon Apr 06 22:19:49 PDT 2009</td>\n",
       "      <td>scotthamilton</td>\n",
       "      <td>is upset that he cant update his facebook by t...</td>\n",
       "    </tr>\n",
       "    <tr>\n",
       "      <th>1</th>\n",
       "      <td>Mon Apr 06 22:19:53 PDT 2009</td>\n",
       "      <td>mattycus</td>\n",
       "      <td>kenichandived many times for the ball managed ...</td>\n",
       "    </tr>\n",
       "    <tr>\n",
       "      <th>2</th>\n",
       "      <td>Mon Apr 06 22:19:57 PDT 2009</td>\n",
       "      <td>ElleCTF</td>\n",
       "      <td>my whole body feels itchy and like its on fire</td>\n",
       "    </tr>\n",
       "    <tr>\n",
       "      <th>3</th>\n",
       "      <td>Mon Apr 06 22:19:57 PDT 2009</td>\n",
       "      <td>Karoli</td>\n",
       "      <td>nationwideclass no its not behaving at all im ...</td>\n",
       "    </tr>\n",
       "    <tr>\n",
       "      <th>4</th>\n",
       "      <td>Mon Apr 06 22:20:00 PDT 2009</td>\n",
       "      <td>joy_wolf</td>\n",
       "      <td>kwesidei not the whole crew</td>\n",
       "    </tr>\n",
       "  </tbody>\n",
       "</table>\n",
       "</div>"
      ],
      "text/plain": [
       "                           date           user   \n",
       "0  Mon Apr 06 22:19:49 PDT 2009  scotthamilton  \\\n",
       "1  Mon Apr 06 22:19:53 PDT 2009       mattycus   \n",
       "2  Mon Apr 06 22:19:57 PDT 2009        ElleCTF   \n",
       "3  Mon Apr 06 22:19:57 PDT 2009         Karoli   \n",
       "4  Mon Apr 06 22:20:00 PDT 2009       joy_wolf   \n",
       "\n",
       "                                                text  \n",
       "0  is upset that he cant update his facebook by t...  \n",
       "1  kenichandived many times for the ball managed ...  \n",
       "2    my whole body feels itchy and like its on fire   \n",
       "3  nationwideclass no its not behaving at all im ...  \n",
       "4                       kwesidei not the whole crew   "
      ]
     },
     "execution_count": 26,
     "metadata": {},
     "output_type": "execute_result"
    }
   ],
   "source": [
    "df_new.head()"
   ]
  },
  {
   "cell_type": "code",
   "execution_count": 27,
   "id": "1e39b650",
   "metadata": {},
   "outputs": [],
   "source": [
    "# Convert date column to datetime format\n",
    "df_new['date'] = pd.to_datetime(df_new['date']).dt.date "
   ]
  },
  {
   "cell_type": "code",
   "execution_count": 28,
   "id": "bbbfcf59",
   "metadata": {},
   "outputs": [
    {
     "data": {
      "text/html": [
       "<div>\n",
       "<style scoped>\n",
       "    .dataframe tbody tr th:only-of-type {\n",
       "        vertical-align: middle;\n",
       "    }\n",
       "\n",
       "    .dataframe tbody tr th {\n",
       "        vertical-align: top;\n",
       "    }\n",
       "\n",
       "    .dataframe thead th {\n",
       "        text-align: right;\n",
       "    }\n",
       "</style>\n",
       "<table border=\"1\" class=\"dataframe\">\n",
       "  <thead>\n",
       "    <tr style=\"text-align: right;\">\n",
       "      <th></th>\n",
       "      <th>date</th>\n",
       "      <th>user</th>\n",
       "      <th>text</th>\n",
       "    </tr>\n",
       "  </thead>\n",
       "  <tbody>\n",
       "    <tr>\n",
       "      <th>0</th>\n",
       "      <td>2009-04-06</td>\n",
       "      <td>scotthamilton</td>\n",
       "      <td>is upset that he cant update his facebook by t...</td>\n",
       "    </tr>\n",
       "    <tr>\n",
       "      <th>1</th>\n",
       "      <td>2009-04-06</td>\n",
       "      <td>mattycus</td>\n",
       "      <td>kenichandived many times for the ball managed ...</td>\n",
       "    </tr>\n",
       "    <tr>\n",
       "      <th>2</th>\n",
       "      <td>2009-04-06</td>\n",
       "      <td>ElleCTF</td>\n",
       "      <td>my whole body feels itchy and like its on fire</td>\n",
       "    </tr>\n",
       "    <tr>\n",
       "      <th>3</th>\n",
       "      <td>2009-04-06</td>\n",
       "      <td>Karoli</td>\n",
       "      <td>nationwideclass no its not behaving at all im ...</td>\n",
       "    </tr>\n",
       "    <tr>\n",
       "      <th>4</th>\n",
       "      <td>2009-04-06</td>\n",
       "      <td>joy_wolf</td>\n",
       "      <td>kwesidei not the whole crew</td>\n",
       "    </tr>\n",
       "  </tbody>\n",
       "</table>\n",
       "</div>"
      ],
      "text/plain": [
       "         date           user   \n",
       "0  2009-04-06  scotthamilton  \\\n",
       "1  2009-04-06       mattycus   \n",
       "2  2009-04-06        ElleCTF   \n",
       "3  2009-04-06         Karoli   \n",
       "4  2009-04-06       joy_wolf   \n",
       "\n",
       "                                                text  \n",
       "0  is upset that he cant update his facebook by t...  \n",
       "1  kenichandived many times for the ball managed ...  \n",
       "2    my whole body feels itchy and like its on fire   \n",
       "3  nationwideclass no its not behaving at all im ...  \n",
       "4                       kwesidei not the whole crew   "
      ]
     },
     "execution_count": 28,
     "metadata": {},
     "output_type": "execute_result"
    }
   ],
   "source": [
    "df_new.head()"
   ]
  },
  {
   "cell_type": "code",
   "execution_count": 29,
   "id": "b52acc19",
   "metadata": {},
   "outputs": [
    {
     "name": "stderr",
     "output_type": "stream",
     "text": [
      "[nltk_data] Downloading package stopwords to\n",
      "[nltk_data]     /Users/alyona_dushkina/nltk_data...\n",
      "[nltk_data]   Package stopwords is already up-to-date!\n",
      "[nltk_data] Downloading package wordnet to\n",
      "[nltk_data]     /Users/alyona_dushkina/nltk_data...\n",
      "[nltk_data]   Package wordnet is already up-to-date!\n"
     ]
    },
    {
     "data": {
      "text/plain": [
       "True"
      ]
     },
     "execution_count": 29,
     "metadata": {},
     "output_type": "execute_result"
    }
   ],
   "source": [
    "import nltk\n",
    "from nltk.stem import WordNetLemmatizer\n",
    "from nltk.corpus import stopwords\n",
    "\n",
    "lemmatizer = WordNetLemmatizer()\n",
    "nltk.download('stopwords')\n",
    "nltk.download('wordnet')"
   ]
  },
  {
   "cell_type": "code",
   "execution_count": 30,
   "id": "7dad3ba6",
   "metadata": {},
   "outputs": [
    {
     "data": {
      "text/plain": [
       "(179, ['our', 'ours', 'ourselves', 'you', \"you're\"])"
      ]
     },
     "execution_count": 30,
     "metadata": {},
     "output_type": "execute_result"
    }
   ],
   "source": [
    "#stopwords are the words which won't bring about any changes to the polarity of the tweet\n",
    "stop_words = stopwords.words('english')   \n",
    "len(stop_words),stop_words[5:10]"
   ]
  },
  {
   "cell_type": "code",
   "execution_count": 31,
   "id": "dbd58907",
   "metadata": {},
   "outputs": [],
   "source": [
    "# function to remove stopwords\n",
    "def stopWords(tweet):\n",
    "  clean_tweet = tweet\n",
    "  clean_tweet = \" \".join(word for word in clean_tweet.split() if word not in stop_words)\n",
    "# clean_tweet = \" \".join(lemmatizer.lemmatize(word) for word in clean_tweet.split())\n",
    "  return clean_tweet"
   ]
  },
  {
   "cell_type": "code",
   "execution_count": 32,
   "id": "ca1fe6d7",
   "metadata": {},
   "outputs": [],
   "source": [
    "df_new['text'] = df_new['text'].apply(lambda x: stopWords(x))"
   ]
  },
  {
   "cell_type": "code",
   "execution_count": 33,
   "id": "e55a4978",
   "metadata": {},
   "outputs": [
    {
     "data": {
      "text/html": [
       "<div>\n",
       "<style scoped>\n",
       "    .dataframe tbody tr th:only-of-type {\n",
       "        vertical-align: middle;\n",
       "    }\n",
       "\n",
       "    .dataframe tbody tr th {\n",
       "        vertical-align: top;\n",
       "    }\n",
       "\n",
       "    .dataframe thead th {\n",
       "        text-align: right;\n",
       "    }\n",
       "</style>\n",
       "<table border=\"1\" class=\"dataframe\">\n",
       "  <thead>\n",
       "    <tr style=\"text-align: right;\">\n",
       "      <th></th>\n",
       "      <th>date</th>\n",
       "      <th>user</th>\n",
       "      <th>text</th>\n",
       "    </tr>\n",
       "  </thead>\n",
       "  <tbody>\n",
       "    <tr>\n",
       "      <th>0</th>\n",
       "      <td>2009-04-06</td>\n",
       "      <td>scotthamilton</td>\n",
       "      <td>upset cant update facebook texting might cry a...</td>\n",
       "    </tr>\n",
       "    <tr>\n",
       "      <th>1</th>\n",
       "      <td>2009-04-06</td>\n",
       "      <td>mattycus</td>\n",
       "      <td>kenichandived many times ball managed save 50 ...</td>\n",
       "    </tr>\n",
       "    <tr>\n",
       "      <th>2</th>\n",
       "      <td>2009-04-06</td>\n",
       "      <td>ElleCTF</td>\n",
       "      <td>whole body feels itchy like fire</td>\n",
       "    </tr>\n",
       "    <tr>\n",
       "      <th>3</th>\n",
       "      <td>2009-04-06</td>\n",
       "      <td>Karoli</td>\n",
       "      <td>nationwideclass behaving im mad amhere because...</td>\n",
       "    </tr>\n",
       "    <tr>\n",
       "      <th>4</th>\n",
       "      <td>2009-04-06</td>\n",
       "      <td>joy_wolf</td>\n",
       "      <td>kwesidei whole crew</td>\n",
       "    </tr>\n",
       "  </tbody>\n",
       "</table>\n",
       "</div>"
      ],
      "text/plain": [
       "         date           user   \n",
       "0  2009-04-06  scotthamilton  \\\n",
       "1  2009-04-06       mattycus   \n",
       "2  2009-04-06        ElleCTF   \n",
       "3  2009-04-06         Karoli   \n",
       "4  2009-04-06       joy_wolf   \n",
       "\n",
       "                                                text  \n",
       "0  upset cant update facebook texting might cry a...  \n",
       "1  kenichandived many times ball managed save 50 ...  \n",
       "2                   whole body feels itchy like fire  \n",
       "3  nationwideclass behaving im mad amhere because...  \n",
       "4                                kwesidei whole crew  "
      ]
     },
     "execution_count": 33,
     "metadata": {},
     "output_type": "execute_result"
    }
   ],
   "source": [
    "df_new.head()"
   ]
  },
  {
   "cell_type": "code",
   "execution_count": 34,
   "id": "86338603",
   "metadata": {},
   "outputs": [],
   "source": [
    "from textblob import TextBlob\n",
    "# Function to assign polarity and subjectivity to the tweets\n",
    "def blob_fun(text):\n",
    "  senti = TextBlob(text)\n",
    "  senti_polarity = senti.sentiment.polarity\n",
    "  senti_subjectivity = senti.sentiment.subjectivity\n",
    "\n",
    "  if senti_polarity > 0:\n",
    "    res = 'Positive'\n",
    "\n",
    "  elif senti_polarity < 0:\n",
    "    res = 'Negative'\n",
    "\n",
    "  elif senti_polarity == 0:\n",
    "    res =\"Neutral\"\n",
    "\n",
    "  result = {'polarity':senti_polarity,'subjectivity':senti_subjectivity,'sentiment':res}\n",
    "\n",
    "  return result"
   ]
  },
  {
   "cell_type": "markdown",
   "id": "610092b0",
   "metadata": {},
   "source": [
    "The \"blob_fun\" function calculates the polarity and subjectivity of a tweet using the TextBlob and returns the sentiment result as 'Positive' (positive), 'Negative' (negative) or 'Neutral' (neutral) along with the polarity and subjectivity values."
   ]
  },
  {
   "cell_type": "code",
   "execution_count": 35,
   "id": "a1decd83",
   "metadata": {},
   "outputs": [],
   "source": [
    "df_new['results'] = df_new['text'].apply(blob_fun)\n",
    "\n",
    "#after executing this line of code, DataFrame df_new will contain a new \"results\" column, \n",
    "#in which each row will contain a dictionary with sentiment and subjectivity analysis results \n",
    "#for the corresponding text (tweet) from the \"text\" column.\n"
   ]
  },
  {
   "cell_type": "markdown",
   "id": "fdea0391",
   "metadata": {},
   "source": [
    "### As a result, DataFrame df_sentiment will contain all columns from DataFrame df_new, as well as new columns with sentiment and subjectivity analysis results for each text (tweet). \n",
    "#### Now there will be a complete DataFrame with information about the texts and their sentiment analysis"
   ]
  },
  {
   "cell_type": "code",
   "execution_count": 36,
   "id": "30d518ef",
   "metadata": {},
   "outputs": [],
   "source": [
    "df_sentiment = df_new.join(pd.json_normalize(data=df_new['results']))\n"
   ]
  },
  {
   "cell_type": "code",
   "execution_count": 37,
   "id": "3bb42d78",
   "metadata": {},
   "outputs": [
    {
     "data": {
      "text/html": [
       "<div>\n",
       "<style scoped>\n",
       "    .dataframe tbody tr th:only-of-type {\n",
       "        vertical-align: middle;\n",
       "    }\n",
       "\n",
       "    .dataframe tbody tr th {\n",
       "        vertical-align: top;\n",
       "    }\n",
       "\n",
       "    .dataframe thead th {\n",
       "        text-align: right;\n",
       "    }\n",
       "</style>\n",
       "<table border=\"1\" class=\"dataframe\">\n",
       "  <thead>\n",
       "    <tr style=\"text-align: right;\">\n",
       "      <th></th>\n",
       "      <th>date</th>\n",
       "      <th>user</th>\n",
       "      <th>text</th>\n",
       "      <th>results</th>\n",
       "      <th>polarity</th>\n",
       "      <th>subjectivity</th>\n",
       "      <th>sentiment</th>\n",
       "    </tr>\n",
       "  </thead>\n",
       "  <tbody>\n",
       "    <tr>\n",
       "      <th>0</th>\n",
       "      <td>2009-04-06</td>\n",
       "      <td>scotthamilton</td>\n",
       "      <td>upset cant update facebook texting might cry a...</td>\n",
       "      <td>{'polarity': 0.0, 'subjectivity': 0.0, 'sentim...</td>\n",
       "      <td>0.000</td>\n",
       "      <td>0.0</td>\n",
       "      <td>Neutral</td>\n",
       "    </tr>\n",
       "    <tr>\n",
       "      <th>1</th>\n",
       "      <td>2009-04-06</td>\n",
       "      <td>mattycus</td>\n",
       "      <td>kenichandived many times ball managed save 50 ...</td>\n",
       "      <td>{'polarity': 0.5, 'subjectivity': 0.5, 'sentim...</td>\n",
       "      <td>0.500</td>\n",
       "      <td>0.5</td>\n",
       "      <td>Positive</td>\n",
       "    </tr>\n",
       "    <tr>\n",
       "      <th>2</th>\n",
       "      <td>2009-04-06</td>\n",
       "      <td>ElleCTF</td>\n",
       "      <td>whole body feels itchy like fire</td>\n",
       "      <td>{'polarity': 0.2, 'subjectivity': 0.4, 'sentim...</td>\n",
       "      <td>0.200</td>\n",
       "      <td>0.4</td>\n",
       "      <td>Positive</td>\n",
       "    </tr>\n",
       "    <tr>\n",
       "      <th>3</th>\n",
       "      <td>2009-04-06</td>\n",
       "      <td>Karoli</td>\n",
       "      <td>nationwideclass behaving im mad amhere because...</td>\n",
       "      <td>{'polarity': -0.625, 'subjectivity': 1.0, 'sen...</td>\n",
       "      <td>-0.625</td>\n",
       "      <td>1.0</td>\n",
       "      <td>Negative</td>\n",
       "    </tr>\n",
       "    <tr>\n",
       "      <th>4</th>\n",
       "      <td>2009-04-06</td>\n",
       "      <td>joy_wolf</td>\n",
       "      <td>kwesidei whole crew</td>\n",
       "      <td>{'polarity': 0.2, 'subjectivity': 0.4, 'sentim...</td>\n",
       "      <td>0.200</td>\n",
       "      <td>0.4</td>\n",
       "      <td>Positive</td>\n",
       "    </tr>\n",
       "  </tbody>\n",
       "</table>\n",
       "</div>"
      ],
      "text/plain": [
       "         date           user   \n",
       "0  2009-04-06  scotthamilton  \\\n",
       "1  2009-04-06       mattycus   \n",
       "2  2009-04-06        ElleCTF   \n",
       "3  2009-04-06         Karoli   \n",
       "4  2009-04-06       joy_wolf   \n",
       "\n",
       "                                                text   \n",
       "0  upset cant update facebook texting might cry a...  \\\n",
       "1  kenichandived many times ball managed save 50 ...   \n",
       "2                   whole body feels itchy like fire   \n",
       "3  nationwideclass behaving im mad amhere because...   \n",
       "4                                kwesidei whole crew   \n",
       "\n",
       "                                             results  polarity  subjectivity   \n",
       "0  {'polarity': 0.0, 'subjectivity': 0.0, 'sentim...     0.000           0.0  \\\n",
       "1  {'polarity': 0.5, 'subjectivity': 0.5, 'sentim...     0.500           0.5   \n",
       "2  {'polarity': 0.2, 'subjectivity': 0.4, 'sentim...     0.200           0.4   \n",
       "3  {'polarity': -0.625, 'subjectivity': 1.0, 'sen...    -0.625           1.0   \n",
       "4  {'polarity': 0.2, 'subjectivity': 0.4, 'sentim...     0.200           0.4   \n",
       "\n",
       "  sentiment  \n",
       "0   Neutral  \n",
       "1  Positive  \n",
       "2  Positive  \n",
       "3  Negative  \n",
       "4  Positive  "
      ]
     },
     "execution_count": 37,
     "metadata": {},
     "output_type": "execute_result"
    }
   ],
   "source": [
    "df_sentiment.head()"
   ]
  },
  {
   "cell_type": "markdown",
   "id": "90e019ea",
   "metadata": {},
   "source": [
    "# An analysis of changes in sentiment over a period of time."
   ]
  },
  {
   "cell_type": "code",
   "execution_count": 38,
   "id": "05234154",
   "metadata": {},
   "outputs": [
    {
     "data": {
      "text/html": [
       "<div>\n",
       "<style scoped>\n",
       "    .dataframe tbody tr th:only-of-type {\n",
       "        vertical-align: middle;\n",
       "    }\n",
       "\n",
       "    .dataframe tbody tr th {\n",
       "        vertical-align: top;\n",
       "    }\n",
       "\n",
       "    .dataframe thead th {\n",
       "        text-align: right;\n",
       "    }\n",
       "</style>\n",
       "<table border=\"1\" class=\"dataframe\">\n",
       "  <thead>\n",
       "    <tr style=\"text-align: right;\">\n",
       "      <th></th>\n",
       "      <th>date</th>\n",
       "      <th>user</th>\n",
       "      <th>text</th>\n",
       "      <th>results</th>\n",
       "      <th>polarity</th>\n",
       "      <th>subjectivity</th>\n",
       "      <th>_Negative</th>\n",
       "      <th>_Neutral</th>\n",
       "      <th>_Positive</th>\n",
       "    </tr>\n",
       "  </thead>\n",
       "  <tbody>\n",
       "    <tr>\n",
       "      <th>0</th>\n",
       "      <td>2009-04-06</td>\n",
       "      <td>scotthamilton</td>\n",
       "      <td>upset cant update facebook texting might cry a...</td>\n",
       "      <td>{'polarity': 0.0, 'subjectivity': 0.0, 'sentim...</td>\n",
       "      <td>0.000</td>\n",
       "      <td>0.0</td>\n",
       "      <td>0</td>\n",
       "      <td>1</td>\n",
       "      <td>0</td>\n",
       "    </tr>\n",
       "    <tr>\n",
       "      <th>1</th>\n",
       "      <td>2009-04-06</td>\n",
       "      <td>mattycus</td>\n",
       "      <td>kenichandived many times ball managed save 50 ...</td>\n",
       "      <td>{'polarity': 0.5, 'subjectivity': 0.5, 'sentim...</td>\n",
       "      <td>0.500</td>\n",
       "      <td>0.5</td>\n",
       "      <td>0</td>\n",
       "      <td>0</td>\n",
       "      <td>1</td>\n",
       "    </tr>\n",
       "    <tr>\n",
       "      <th>2</th>\n",
       "      <td>2009-04-06</td>\n",
       "      <td>ElleCTF</td>\n",
       "      <td>whole body feels itchy like fire</td>\n",
       "      <td>{'polarity': 0.2, 'subjectivity': 0.4, 'sentim...</td>\n",
       "      <td>0.200</td>\n",
       "      <td>0.4</td>\n",
       "      <td>0</td>\n",
       "      <td>0</td>\n",
       "      <td>1</td>\n",
       "    </tr>\n",
       "    <tr>\n",
       "      <th>3</th>\n",
       "      <td>2009-04-06</td>\n",
       "      <td>Karoli</td>\n",
       "      <td>nationwideclass behaving im mad amhere because...</td>\n",
       "      <td>{'polarity': -0.625, 'subjectivity': 1.0, 'sen...</td>\n",
       "      <td>-0.625</td>\n",
       "      <td>1.0</td>\n",
       "      <td>1</td>\n",
       "      <td>0</td>\n",
       "      <td>0</td>\n",
       "    </tr>\n",
       "    <tr>\n",
       "      <th>4</th>\n",
       "      <td>2009-04-06</td>\n",
       "      <td>joy_wolf</td>\n",
       "      <td>kwesidei whole crew</td>\n",
       "      <td>{'polarity': 0.2, 'subjectivity': 0.4, 'sentim...</td>\n",
       "      <td>0.200</td>\n",
       "      <td>0.4</td>\n",
       "      <td>0</td>\n",
       "      <td>0</td>\n",
       "      <td>1</td>\n",
       "    </tr>\n",
       "  </tbody>\n",
       "</table>\n",
       "</div>"
      ],
      "text/plain": [
       "         date           user   \n",
       "0  2009-04-06  scotthamilton  \\\n",
       "1  2009-04-06       mattycus   \n",
       "2  2009-04-06        ElleCTF   \n",
       "3  2009-04-06         Karoli   \n",
       "4  2009-04-06       joy_wolf   \n",
       "\n",
       "                                                text   \n",
       "0  upset cant update facebook texting might cry a...  \\\n",
       "1  kenichandived many times ball managed save 50 ...   \n",
       "2                   whole body feels itchy like fire   \n",
       "3  nationwideclass behaving im mad amhere because...   \n",
       "4                                kwesidei whole crew   \n",
       "\n",
       "                                             results  polarity  subjectivity   \n",
       "0  {'polarity': 0.0, 'subjectivity': 0.0, 'sentim...     0.000           0.0  \\\n",
       "1  {'polarity': 0.5, 'subjectivity': 0.5, 'sentim...     0.500           0.5   \n",
       "2  {'polarity': 0.2, 'subjectivity': 0.4, 'sentim...     0.200           0.4   \n",
       "3  {'polarity': -0.625, 'subjectivity': 1.0, 'sen...    -0.625           1.0   \n",
       "4  {'polarity': 0.2, 'subjectivity': 0.4, 'sentim...     0.200           0.4   \n",
       "\n",
       "   _Negative  _Neutral  _Positive  \n",
       "0          0         1          0  \n",
       "1          0         0          1  \n",
       "2          0         0          1  \n",
       "3          1         0          0  \n",
       "4          0         0          1  "
      ]
     },
     "execution_count": 38,
     "metadata": {},
     "output_type": "execute_result"
    }
   ],
   "source": [
    "df = pd.get_dummies(df_sentiment, columns = ['sentiment'], prefix = '', drop_first=False)\n",
    "# Cast columns to integer type (int)\n",
    "df['_Positive'] = df['_Positive'].astype(int)\n",
    "df['_Negative'] = df['_Negative'].astype(int)\n",
    "df['_Neutral'] = df['_Neutral'].astype(int)\n",
    "\n",
    "df.head()"
   ]
  },
  {
   "cell_type": "code",
   "execution_count": 39,
   "id": "d6c0f882",
   "metadata": {},
   "outputs": [
    {
     "data": {
      "image/png": "[encoded data removed]",
      "text/plain": [
       "<Figure size 1000x600 with 1 Axes>"
      ]
     },
     "metadata": {},
     "output_type": "display_data"
    }
   ],
   "source": [
    "df['date'] = pd.to_datetime(df['date'])\n",
    "\n",
    "# Set the selected time period\n",
    "start_date = pd.to_datetime('2009-04-06')\n",
    "end_date = pd.to_datetime('2009-04-29')\n",
    "\n",
    "# Filtering a DataFrame by a selected time period\n",
    "df_selected_period = df[(df['date'] >= start_date) & (df['date'] <= end_date)]\n",
    "\n",
    "# Group by date and count the number of tweets for each mood value\n",
    "df_grouped = df_selected_period.groupby('date')[['_Positive', '_Negative', '_Neutral']].sum().reset_index()\n",
    "\n",
    "# Building a graph of sentiment changes for a selected period\n",
    "plt.figure(figsize=(10, 6))\n",
    "plt.plot(df_grouped['date'], df_grouped['_Positive'], label='Positive')\n",
    "plt.plot(df_grouped['date'], df_grouped['_Negative'], label='Negative')\n",
    "plt.plot(df_grouped['date'], df_grouped['_Neutral'], label='Neutral')\n",
    "plt.xlabel('Date')\n",
    "plt.ylabel('Number of tweets')\n",
    "plt.title('Change of mood for the selected period 2009-04-06 - 2009-04-29 ')\n",
    "plt.legend()\n",
    "plt.grid(True)\n",
    "plt.show()\n",
    "\n"
   ]
  },
  {
   "cell_type": "markdown",
   "id": "ec4115cd",
   "metadata": {},
   "source": [
    "## Сonclusion: During the selected period, there is a significant increase in positive and neutral tweets on April 19, 2009. On the other hand, on April 17, 2009, we see relatively low activity."
   ]
  },
  {
   "cell_type": "code",
   "execution_count": null,
   "id": "dbee8714",
   "metadata": {},
   "outputs": [],
   "source": []
  },
  {
   "cell_type": "code",
   "execution_count": 40,
   "id": "53f651e2",
   "metadata": {},
   "outputs": [
    {
     "data": {
      "text/plain": [
       "sentiment\n",
       "Neutral     689148\n",
       "Positive    614630\n",
       "Negative    296221\n",
       "Name: count, dtype: int64"
      ]
     },
     "execution_count": 40,
     "metadata": {},
     "output_type": "execute_result"
    }
   ],
   "source": [
    "df_sentiment[\"sentiment\"].value_counts() "
   ]
  },
  {
   "cell_type": "code",
   "execution_count": 41,
   "id": "3d29604b",
   "metadata": {},
   "outputs": [],
   "source": [
    "#df_sentiment.to_csv('file3.csv', index=False)"
   ]
  },
  {
   "cell_type": "code",
   "execution_count": 42,
   "id": "8d452c80",
   "metadata": {},
   "outputs": [
    {
     "data": {
      "image/png": "[encoded data removed]",
      "text/plain": [
       "<Figure size 640x480 with 1 Axes>"
      ]
     },
     "metadata": {},
     "output_type": "display_data"
    }
   ],
   "source": [
    "# Define colors for pie chart segments\n",
    "colors = ['#66b3ff', '#ff9999', '#99ff99']\n",
    "\n",
    "# Creating a Pie Chart\n",
    "ax = df_sentiment['sentiment'].value_counts().plot.pie(autopct='%.2f%%', colors=colors)\n",
    "\n",
    "# Adding a title\n",
    "plt.title('Tweet sentiment distribution')\n",
    "\n",
    "# Set the distance between segments and their captions\n",
    "ax.set_xlabel('')\n",
    "ax.set_ylabel('')\n",
    "ax.legend(title='Sentiment', loc='center left', bbox_to_anchor=(1.0, 0, 0.5, 1))\n",
    "\n",
    "# Pie Chart Display\n",
    "plt.show()"
   ]
  },
  {
   "cell_type": "markdown",
   "id": "fdb8b7b1",
   "metadata": {},
   "source": [
    "### 7/30/90 day sentiment forecast for a specific user"
   ]
  },
  {
   "cell_type": "markdown",
   "id": "ebe3980a",
   "metadata": {},
   "source": [
    "### As we defined earlier, \"lost_dog\" is the most active user from our dataframe"
   ]
  },
  {
   "cell_type": "code",
   "execution_count": 43,
   "id": "91373566",
   "metadata": {},
   "outputs": [
    {
     "data": {
      "text/html": [
       "<div>\n",
       "<style scoped>\n",
       "    .dataframe tbody tr th:only-of-type {\n",
       "        vertical-align: middle;\n",
       "    }\n",
       "\n",
       "    .dataframe tbody tr th {\n",
       "        vertical-align: top;\n",
       "    }\n",
       "\n",
       "    .dataframe thead th {\n",
       "        text-align: right;\n",
       "    }\n",
       "</style>\n",
       "<table border=\"1\" class=\"dataframe\">\n",
       "  <thead>\n",
       "    <tr style=\"text-align: right;\">\n",
       "      <th></th>\n",
       "      <th>date</th>\n",
       "      <th>user</th>\n",
       "      <th>text</th>\n",
       "      <th>results</th>\n",
       "      <th>polarity</th>\n",
       "      <th>subjectivity</th>\n",
       "      <th>sentiment</th>\n",
       "    </tr>\n",
       "  </thead>\n",
       "  <tbody>\n",
       "    <tr>\n",
       "      <th>43934</th>\n",
       "      <td>2009-05-01</td>\n",
       "      <td>lost_dog</td>\n",
       "      <td>nylewam lost please help findgood home</td>\n",
       "      <td>{'polarity': 0.0, 'subjectivity': 0.0, 'sentim...</td>\n",
       "      <td>0.0</td>\n",
       "      <td>0.0</td>\n",
       "      <td>Neutral</td>\n",
       "    </tr>\n",
       "    <tr>\n",
       "      <th>45573</th>\n",
       "      <td>2009-05-02</td>\n",
       "      <td>lost_dog</td>\n",
       "      <td>sallydam lost please help findgood home</td>\n",
       "      <td>{'polarity': 0.0, 'subjectivity': 0.0, 'sentim...</td>\n",
       "      <td>0.0</td>\n",
       "      <td>0.0</td>\n",
       "      <td>Neutral</td>\n",
       "    </tr>\n",
       "    <tr>\n",
       "      <th>46918</th>\n",
       "      <td>2009-05-02</td>\n",
       "      <td>lost_dog</td>\n",
       "      <td>zuppaholicam lost please help findgood home</td>\n",
       "      <td>{'polarity': 0.0, 'subjectivity': 0.0, 'sentim...</td>\n",
       "      <td>0.0</td>\n",
       "      <td>0.0</td>\n",
       "      <td>Neutral</td>\n",
       "    </tr>\n",
       "    <tr>\n",
       "      <th>47948</th>\n",
       "      <td>2009-05-02</td>\n",
       "      <td>lost_dog</td>\n",
       "      <td>lostpetusaam lost please help findgood home</td>\n",
       "      <td>{'polarity': 0.0, 'subjectivity': 0.0, 'sentim...</td>\n",
       "      <td>0.0</td>\n",
       "      <td>0.0</td>\n",
       "      <td>Neutral</td>\n",
       "    </tr>\n",
       "    <tr>\n",
       "      <th>50571</th>\n",
       "      <td>2009-05-02</td>\n",
       "      <td>lost_dog</td>\n",
       "      <td>jeanleverthoodam lost please help findgood home</td>\n",
       "      <td>{'polarity': 0.0, 'subjectivity': 0.0, 'sentim...</td>\n",
       "      <td>0.0</td>\n",
       "      <td>0.0</td>\n",
       "      <td>Neutral</td>\n",
       "    </tr>\n",
       "  </tbody>\n",
       "</table>\n",
       "</div>"
      ],
      "text/plain": [
       "             date      user                                             text   \n",
       "43934  2009-05-01  lost_dog           nylewam lost please help findgood home  \\\n",
       "45573  2009-05-02  lost_dog          sallydam lost please help findgood home   \n",
       "46918  2009-05-02  lost_dog      zuppaholicam lost please help findgood home   \n",
       "47948  2009-05-02  lost_dog      lostpetusaam lost please help findgood home   \n",
       "50571  2009-05-02  lost_dog  jeanleverthoodam lost please help findgood home   \n",
       "\n",
       "                                                 results  polarity   \n",
       "43934  {'polarity': 0.0, 'subjectivity': 0.0, 'sentim...       0.0  \\\n",
       "45573  {'polarity': 0.0, 'subjectivity': 0.0, 'sentim...       0.0   \n",
       "46918  {'polarity': 0.0, 'subjectivity': 0.0, 'sentim...       0.0   \n",
       "47948  {'polarity': 0.0, 'subjectivity': 0.0, 'sentim...       0.0   \n",
       "50571  {'polarity': 0.0, 'subjectivity': 0.0, 'sentim...       0.0   \n",
       "\n",
       "       subjectivity sentiment  \n",
       "43934           0.0   Neutral  \n",
       "45573           0.0   Neutral  \n",
       "46918           0.0   Neutral  \n",
       "47948           0.0   Neutral  \n",
       "50571           0.0   Neutral  "
      ]
     },
     "execution_count": 43,
     "metadata": {},
     "output_type": "execute_result"
    }
   ],
   "source": [
    "df_lost_dog = df_sentiment[df_sentiment['user'] == 'lost_dog']\n",
    "df_lost_dog.head()"
   ]
  },
  {
   "cell_type": "code",
   "execution_count": 44,
   "id": "bc311c8c",
   "metadata": {},
   "outputs": [
    {
     "name": "stdout",
     "output_type": "stream",
     "text": [
      "<class 'pandas.core.frame.DataFrame'>\n",
      "Index: 549 entries, 43934 to 799404\n",
      "Data columns (total 7 columns):\n",
      " #   Column        Non-Null Count  Dtype  \n",
      "---  ------        --------------  -----  \n",
      " 0   date          549 non-null    object \n",
      " 1   user          549 non-null    object \n",
      " 2   text          549 non-null    object \n",
      " 3   results       549 non-null    object \n",
      " 4   polarity      549 non-null    float64\n",
      " 5   subjectivity  549 non-null    float64\n",
      " 6   sentiment     549 non-null    object \n",
      "dtypes: float64(2), object(5)\n",
      "memory usage: 34.3+ KB\n"
     ]
    }
   ],
   "source": [
    "df_lost_dog.info()"
   ]
  },
  {
   "cell_type": "code",
   "execution_count": 45,
   "id": "f3122e78",
   "metadata": {},
   "outputs": [
    {
     "data": {
      "text/plain": [
       "sentiment\n",
       "Neutral    549\n",
       "Name: count, dtype: int64"
      ]
     },
     "execution_count": 45,
     "metadata": {},
     "output_type": "execute_result"
    }
   ],
   "source": [
    "df_lost_dog[\"sentiment\"].value_counts()"
   ]
  },
  {
   "cell_type": "markdown",
   "id": "2f784de6",
   "metadata": {},
   "source": [
    "#### Conclusion: It is not possible to predict a good, bad or neutral tweet for a specific user for 7 days, as it is critical to have enough data to train the model so that it is adequate and accurate.\n",
    "In our case, for the user \"lost_dog\" there are too few tweets and they are all neutral (549/549)."
   ]
  },
  {
   "cell_type": "markdown",
   "id": "f24df49f",
   "metadata": {},
   "source": [
    "# Predict the total number of tweets for all users for 7, 30 and 90 days ahead"
   ]
  },
  {
   "cell_type": "code",
   "execution_count": 46,
   "id": "d8617852",
   "metadata": {},
   "outputs": [],
   "source": [
    "df_all=df_sentiment"
   ]
  },
  {
   "cell_type": "code",
   "execution_count": 47,
   "id": "43763fe3",
   "metadata": {},
   "outputs": [
    {
     "data": {
      "text/html": [
       "<div>\n",
       "<style scoped>\n",
       "    .dataframe tbody tr th:only-of-type {\n",
       "        vertical-align: middle;\n",
       "    }\n",
       "\n",
       "    .dataframe tbody tr th {\n",
       "        vertical-align: top;\n",
       "    }\n",
       "\n",
       "    .dataframe thead th {\n",
       "        text-align: right;\n",
       "    }\n",
       "</style>\n",
       "<table border=\"1\" class=\"dataframe\">\n",
       "  <thead>\n",
       "    <tr style=\"text-align: right;\">\n",
       "      <th></th>\n",
       "      <th>text</th>\n",
       "    </tr>\n",
       "    <tr>\n",
       "      <th>date</th>\n",
       "      <th></th>\n",
       "    </tr>\n",
       "  </thead>\n",
       "  <tbody>\n",
       "    <tr>\n",
       "      <th>2009-04-06</th>\n",
       "      <td>3359</td>\n",
       "    </tr>\n",
       "    <tr>\n",
       "      <th>2009-04-07</th>\n",
       "      <td>17311</td>\n",
       "    </tr>\n",
       "    <tr>\n",
       "      <th>2009-04-17</th>\n",
       "      <td>3084</td>\n",
       "    </tr>\n",
       "    <tr>\n",
       "      <th>2009-04-18</th>\n",
       "      <td>21754</td>\n",
       "    </tr>\n",
       "    <tr>\n",
       "      <th>2009-04-19</th>\n",
       "      <td>27469</td>\n",
       "    </tr>\n",
       "  </tbody>\n",
       "</table>\n",
       "</div>"
      ],
      "text/plain": [
       "             text\n",
       "date             \n",
       "2009-04-06   3359\n",
       "2009-04-07  17311\n",
       "2009-04-17   3084\n",
       "2009-04-18  21754\n",
       "2009-04-19  27469"
      ]
     },
     "execution_count": 47,
     "metadata": {},
     "output_type": "execute_result"
    }
   ],
   "source": [
    "df_all['date'] = pd.to_datetime(df_all['date'])\n",
    "tweets_per_day = df_all.groupby(df_all['date'].dt.date)['text'].count()\n",
    "tweets_per_day = pd.DataFrame(tweets_per_day)\n",
    "tweets_per_day.head()"
   ]
  },
  {
   "cell_type": "code",
   "execution_count": 48,
   "id": "0e576517",
   "metadata": {},
   "outputs": [],
   "source": [
    "# df_all.to_csv('file2.csv')"
   ]
  },
  {
   "cell_type": "markdown",
   "id": "6c6380e6",
   "metadata": {},
   "source": [
    "It is important to make sure that the time series is stationary before applying forecasting methods. During the analysis phase, you can perform stationarity tests, such as the Dickey-Fuller test, to verify that the series is stationary, or apply differentiation methods to stabilize the series, if necessary."
   ]
  },
  {
   "cell_type": "code",
   "execution_count": 49,
   "id": "42e5cf79",
   "metadata": {},
   "outputs": [],
   "source": [
    "from statsmodels.tsa.stattools import adfuller\n"
   ]
  },
  {
   "cell_type": "code",
   "execution_count": 50,
   "id": "08390e1f",
   "metadata": {},
   "outputs": [
    {
     "name": "stdout",
     "output_type": "stream",
     "text": [
      "ADF Statistic: -3.5881326171441885\n",
      "p-value: 0.005992001971768456\n",
      "Critical Values:\n",
      "   1%: -3.5778480370438146\n",
      "   5%: -2.925338105429433\n",
      "   10%: -2.6007735310095064\n"
     ]
    }
   ],
   "source": [
    "# Dickey-Fuller test (ADF)\n",
    "result = adfuller(tweets_per_day)\n",
    "\n",
    "# Output of results\n",
    "print('ADF Statistic:', result[0])\n",
    "print('p-value:', result[1])\n",
    "print('Critical Values:')\n",
    "for key, value in result[4].items():\n",
    "    print(f'   {key}: {value}')\n"
   ]
  },
  {
   "cell_type": "markdown",
   "id": "70c372d5",
   "metadata": {},
   "source": [
    "Conclusions: \n",
    "In this case, ADF-statistic (-3.5881326171441885) is less than all critical values (-3.5778480370438146, -2.925338105429433, -2.6007735310095064) \n",
    "and p-value (0.006208455957551 378) is less than the selected significance level (for example, 0.05). \n",
    "This means that we can reject the null hypothesis that there is a unit root and consider the time series to be stationary."
   ]
  },
  {
   "cell_type": "code",
   "execution_count": 51,
   "id": "56e6642a",
   "metadata": {},
   "outputs": [],
   "source": [
    "data = df_sentiment"
   ]
  },
  {
   "cell_type": "code",
   "execution_count": 52,
   "id": "27bb1614",
   "metadata": {},
   "outputs": [
    {
     "name": "stdout",
     "output_type": "stream",
     "text": [
      "          date   user   text  results  polarity  subjectivity  sentiment\n",
      "0        False  False  False    False     False         False      False\n",
      "1        False  False  False    False     False         False      False\n",
      "2        False  False  False    False     False         False      False\n",
      "3        False  False  False    False     False         False      False\n",
      "4        False  False  False    False     False         False      False\n",
      "...        ...    ...    ...      ...       ...           ...        ...\n",
      "1599994  False  False  False    False     False         False      False\n",
      "1599995  False  False  False    False     False         False      False\n",
      "1599996  False  False  False    False     False         False      False\n",
      "1599997  False  False  False    False     False         False      False\n",
      "1599998  False  False  False    False     False         False      False\n",
      "\n",
      "[1599999 rows x 7 columns]\n",
      "date            0\n",
      "user            0\n",
      "text            0\n",
      "results         0\n",
      "polarity        0\n",
      "subjectivity    0\n",
      "sentiment       0\n",
      "dtype: int64\n"
     ]
    }
   ],
   "source": [
    "missing_values = data.isnull()\n",
    "# Подсчет пропущенных значений по столбцам\n",
    "missing_values_count = data.isnull().sum()\n",
    "\n",
    "# Вывод таблицы пропущенных значений\n",
    "print(missing_values)\n",
    "\n",
    "# Вывод количества пропущенных значений по столбцам\n",
    "print(missing_values_count)"
   ]
  },
  {
   "cell_type": "code",
   "execution_count": 53,
   "id": "6882c6f4",
   "metadata": {},
   "outputs": [
    {
     "data": {
      "text/html": [
       "<div>\n",
       "<style scoped>\n",
       "    .dataframe tbody tr th:only-of-type {\n",
       "        vertical-align: middle;\n",
       "    }\n",
       "\n",
       "    .dataframe tbody tr th {\n",
       "        vertical-align: top;\n",
       "    }\n",
       "\n",
       "    .dataframe thead th {\n",
       "        text-align: right;\n",
       "    }\n",
       "</style>\n",
       "<table border=\"1\" class=\"dataframe\">\n",
       "  <thead>\n",
       "    <tr style=\"text-align: right;\">\n",
       "      <th></th>\n",
       "      <th>date</th>\n",
       "      <th>user</th>\n",
       "      <th>text</th>\n",
       "      <th>results</th>\n",
       "      <th>polarity</th>\n",
       "      <th>subjectivity</th>\n",
       "      <th>_Negative</th>\n",
       "      <th>_Neutral</th>\n",
       "      <th>_Positive</th>\n",
       "    </tr>\n",
       "  </thead>\n",
       "  <tbody>\n",
       "    <tr>\n",
       "      <th>0</th>\n",
       "      <td>2009-04-06</td>\n",
       "      <td>scotthamilton</td>\n",
       "      <td>upset cant update facebook texting might cry a...</td>\n",
       "      <td>{'polarity': 0.0, 'subjectivity': 0.0, 'sentim...</td>\n",
       "      <td>0.000</td>\n",
       "      <td>0.0</td>\n",
       "      <td>0</td>\n",
       "      <td>1</td>\n",
       "      <td>0</td>\n",
       "    </tr>\n",
       "    <tr>\n",
       "      <th>1</th>\n",
       "      <td>2009-04-06</td>\n",
       "      <td>mattycus</td>\n",
       "      <td>kenichandived many times ball managed save 50 ...</td>\n",
       "      <td>{'polarity': 0.5, 'subjectivity': 0.5, 'sentim...</td>\n",
       "      <td>0.500</td>\n",
       "      <td>0.5</td>\n",
       "      <td>0</td>\n",
       "      <td>0</td>\n",
       "      <td>1</td>\n",
       "    </tr>\n",
       "    <tr>\n",
       "      <th>2</th>\n",
       "      <td>2009-04-06</td>\n",
       "      <td>ElleCTF</td>\n",
       "      <td>whole body feels itchy like fire</td>\n",
       "      <td>{'polarity': 0.2, 'subjectivity': 0.4, 'sentim...</td>\n",
       "      <td>0.200</td>\n",
       "      <td>0.4</td>\n",
       "      <td>0</td>\n",
       "      <td>0</td>\n",
       "      <td>1</td>\n",
       "    </tr>\n",
       "    <tr>\n",
       "      <th>3</th>\n",
       "      <td>2009-04-06</td>\n",
       "      <td>Karoli</td>\n",
       "      <td>nationwideclass behaving im mad amhere because...</td>\n",
       "      <td>{'polarity': -0.625, 'subjectivity': 1.0, 'sen...</td>\n",
       "      <td>-0.625</td>\n",
       "      <td>1.0</td>\n",
       "      <td>1</td>\n",
       "      <td>0</td>\n",
       "      <td>0</td>\n",
       "    </tr>\n",
       "    <tr>\n",
       "      <th>4</th>\n",
       "      <td>2009-04-06</td>\n",
       "      <td>joy_wolf</td>\n",
       "      <td>kwesidei whole crew</td>\n",
       "      <td>{'polarity': 0.2, 'subjectivity': 0.4, 'sentim...</td>\n",
       "      <td>0.200</td>\n",
       "      <td>0.4</td>\n",
       "      <td>0</td>\n",
       "      <td>0</td>\n",
       "      <td>1</td>\n",
       "    </tr>\n",
       "  </tbody>\n",
       "</table>\n",
       "</div>"
      ],
      "text/plain": [
       "        date           user   \n",
       "0 2009-04-06  scotthamilton  \\\n",
       "1 2009-04-06       mattycus   \n",
       "2 2009-04-06        ElleCTF   \n",
       "3 2009-04-06         Karoli   \n",
       "4 2009-04-06       joy_wolf   \n",
       "\n",
       "                                                text   \n",
       "0  upset cant update facebook texting might cry a...  \\\n",
       "1  kenichandived many times ball managed save 50 ...   \n",
       "2                   whole body feels itchy like fire   \n",
       "3  nationwideclass behaving im mad amhere because...   \n",
       "4                                kwesidei whole crew   \n",
       "\n",
       "                                             results  polarity  subjectivity   \n",
       "0  {'polarity': 0.0, 'subjectivity': 0.0, 'sentim...     0.000           0.0  \\\n",
       "1  {'polarity': 0.5, 'subjectivity': 0.5, 'sentim...     0.500           0.5   \n",
       "2  {'polarity': 0.2, 'subjectivity': 0.4, 'sentim...     0.200           0.4   \n",
       "3  {'polarity': -0.625, 'subjectivity': 1.0, 'sen...    -0.625           1.0   \n",
       "4  {'polarity': 0.2, 'subjectivity': 0.4, 'sentim...     0.200           0.4   \n",
       "\n",
       "   _Negative  _Neutral  _Positive  \n",
       "0          0         1          0  \n",
       "1          0         0          1  \n",
       "2          0         0          1  \n",
       "3          1         0          0  \n",
       "4          0         0          1  "
      ]
     },
     "execution_count": 53,
     "metadata": {},
     "output_type": "execute_result"
    }
   ],
   "source": [
    "df = pd.get_dummies(data, columns = ['sentiment'], prefix = '', drop_first=False)\n",
    "# Cast columns to integer type (int)\n",
    "df['_Positive'] = df['_Positive'].astype(int)\n",
    "df['_Negative'] = df['_Negative'].astype(int)\n",
    "df['_Neutral'] = df['_Neutral'].astype(int)\n",
    "\n",
    "df.head()"
   ]
  },
  {
   "cell_type": "code",
   "execution_count": 54,
   "id": "d1409ef3",
   "metadata": {},
   "outputs": [
    {
     "data": {
      "text/html": [
       "<div>\n",
       "<style scoped>\n",
       "    .dataframe tbody tr th:only-of-type {\n",
       "        vertical-align: middle;\n",
       "    }\n",
       "\n",
       "    .dataframe tbody tr th {\n",
       "        vertical-align: top;\n",
       "    }\n",
       "\n",
       "    .dataframe thead th {\n",
       "        text-align: right;\n",
       "    }\n",
       "</style>\n",
       "<table border=\"1\" class=\"dataframe\">\n",
       "  <thead>\n",
       "    <tr style=\"text-align: right;\">\n",
       "      <th></th>\n",
       "      <th>date</th>\n",
       "      <th>user</th>\n",
       "      <th>text</th>\n",
       "      <th>results</th>\n",
       "      <th>polarity</th>\n",
       "      <th>subjectivity</th>\n",
       "      <th>_Negative</th>\n",
       "      <th>_Neutral</th>\n",
       "      <th>_Positive</th>\n",
       "    </tr>\n",
       "  </thead>\n",
       "  <tbody>\n",
       "    <tr>\n",
       "      <th>1</th>\n",
       "      <td>2009-04-06</td>\n",
       "      <td>mattycus</td>\n",
       "      <td>kenichandived many times ball managed save 50 ...</td>\n",
       "      <td>{'polarity': 0.5, 'subjectivity': 0.5, 'sentim...</td>\n",
       "      <td>0.500000</td>\n",
       "      <td>0.500000</td>\n",
       "      <td>0</td>\n",
       "      <td>0</td>\n",
       "      <td>1</td>\n",
       "    </tr>\n",
       "    <tr>\n",
       "      <th>2</th>\n",
       "      <td>2009-04-06</td>\n",
       "      <td>ElleCTF</td>\n",
       "      <td>whole body feels itchy like fire</td>\n",
       "      <td>{'polarity': 0.2, 'subjectivity': 0.4, 'sentim...</td>\n",
       "      <td>0.200000</td>\n",
       "      <td>0.400000</td>\n",
       "      <td>0</td>\n",
       "      <td>0</td>\n",
       "      <td>1</td>\n",
       "    </tr>\n",
       "    <tr>\n",
       "      <th>4</th>\n",
       "      <td>2009-04-06</td>\n",
       "      <td>joy_wolf</td>\n",
       "      <td>kwesidei whole crew</td>\n",
       "      <td>{'polarity': 0.2, 'subjectivity': 0.4, 'sentim...</td>\n",
       "      <td>0.200000</td>\n",
       "      <td>0.400000</td>\n",
       "      <td>0</td>\n",
       "      <td>0</td>\n",
       "      <td>1</td>\n",
       "    </tr>\n",
       "    <tr>\n",
       "      <th>6</th>\n",
       "      <td>2009-04-06</td>\n",
       "      <td>coZZ</td>\n",
       "      <td>loltrish hey long time see yes rainsbit onlybi...</td>\n",
       "      <td>{'polarity': 0.3416666666666667, 'subjectivity...</td>\n",
       "      <td>0.341667</td>\n",
       "      <td>0.450000</td>\n",
       "      <td>0</td>\n",
       "      <td>0</td>\n",
       "      <td>1</td>\n",
       "    </tr>\n",
       "    <tr>\n",
       "      <th>13</th>\n",
       "      <td>2009-04-06</td>\n",
       "      <td>bayofwolves</td>\n",
       "      <td>smarrisonwouldve first butdidnt havegun really...</td>\n",
       "      <td>{'polarity': 0.225, 'subjectivity': 0.26666666...</td>\n",
       "      <td>0.225000</td>\n",
       "      <td>0.266667</td>\n",
       "      <td>0</td>\n",
       "      <td>0</td>\n",
       "      <td>1</td>\n",
       "    </tr>\n",
       "  </tbody>\n",
       "</table>\n",
       "</div>"
      ],
      "text/plain": [
       "         date         user                                               text   \n",
       "1  2009-04-06     mattycus  kenichandived many times ball managed save 50 ...  \\\n",
       "2  2009-04-06      ElleCTF                   whole body feels itchy like fire   \n",
       "4  2009-04-06     joy_wolf                                kwesidei whole crew   \n",
       "6  2009-04-06         coZZ  loltrish hey long time see yes rainsbit onlybi...   \n",
       "13 2009-04-06  bayofwolves  smarrisonwouldve first butdidnt havegun really...   \n",
       "\n",
       "                                              results  polarity  subjectivity   \n",
       "1   {'polarity': 0.5, 'subjectivity': 0.5, 'sentim...  0.500000      0.500000  \\\n",
       "2   {'polarity': 0.2, 'subjectivity': 0.4, 'sentim...  0.200000      0.400000   \n",
       "4   {'polarity': 0.2, 'subjectivity': 0.4, 'sentim...  0.200000      0.400000   \n",
       "6   {'polarity': 0.3416666666666667, 'subjectivity...  0.341667      0.450000   \n",
       "13  {'polarity': 0.225, 'subjectivity': 0.26666666...  0.225000      0.266667   \n",
       "\n",
       "    _Negative  _Neutral  _Positive  \n",
       "1           0         0          1  \n",
       "2           0         0          1  \n",
       "4           0         0          1  \n",
       "6           0         0          1  \n",
       "13          0         0          1  "
      ]
     },
     "execution_count": 54,
     "metadata": {},
     "output_type": "execute_result"
    }
   ],
   "source": [
    "df1=df.query(\"_Positive==1\")\n",
    "df1.head()"
   ]
  },
  {
   "cell_type": "code",
   "execution_count": 55,
   "id": "06db1211",
   "metadata": {},
   "outputs": [],
   "source": [
    "df1 = df1[['date','_Positive']]\n"
   ]
  },
  {
   "cell_type": "code",
   "execution_count": 56,
   "id": "d5be2676",
   "metadata": {},
   "outputs": [
    {
     "data": {
      "text/html": [
       "<div>\n",
       "<style scoped>\n",
       "    .dataframe tbody tr th:only-of-type {\n",
       "        vertical-align: middle;\n",
       "    }\n",
       "\n",
       "    .dataframe tbody tr th {\n",
       "        vertical-align: top;\n",
       "    }\n",
       "\n",
       "    .dataframe thead th {\n",
       "        text-align: right;\n",
       "    }\n",
       "</style>\n",
       "<table border=\"1\" class=\"dataframe\">\n",
       "  <thead>\n",
       "    <tr style=\"text-align: right;\">\n",
       "      <th></th>\n",
       "      <th>_Positive</th>\n",
       "    </tr>\n",
       "    <tr>\n",
       "      <th>date</th>\n",
       "      <th></th>\n",
       "    </tr>\n",
       "  </thead>\n",
       "  <tbody>\n",
       "    <tr>\n",
       "      <th>2009-04-06</th>\n",
       "      <td>1304</td>\n",
       "    </tr>\n",
       "    <tr>\n",
       "      <th>2009-04-07</th>\n",
       "      <td>6886</td>\n",
       "    </tr>\n",
       "    <tr>\n",
       "      <th>2009-04-17</th>\n",
       "      <td>1312</td>\n",
       "    </tr>\n",
       "    <tr>\n",
       "      <th>2009-04-18</th>\n",
       "      <td>8686</td>\n",
       "    </tr>\n",
       "    <tr>\n",
       "      <th>2009-04-19</th>\n",
       "      <td>11090</td>\n",
       "    </tr>\n",
       "  </tbody>\n",
       "</table>\n",
       "</div>"
      ],
      "text/plain": [
       "            _Positive\n",
       "date                 \n",
       "2009-04-06       1304\n",
       "2009-04-07       6886\n",
       "2009-04-17       1312\n",
       "2009-04-18       8686\n",
       "2009-04-19      11090"
      ]
     },
     "execution_count": 56,
     "metadata": {},
     "output_type": "execute_result"
    }
   ],
   "source": [
    "df1['date'] = pd.to_datetime(df1['date'])\n",
    "tweets_per_day = df.groupby(df1['date'].dt.date)['_Positive'].count()\n",
    "tweets_per_day = pd.DataFrame(tweets_per_day).copy()\n",
    "tweets_per_day.head()"
   ]
  },
  {
   "cell_type": "code",
   "execution_count": 57,
   "id": "cdb27d0a",
   "metadata": {},
   "outputs": [],
   "source": [
    "tweets_per_day.to_csv('Positive.csv', index=False) "
   ]
  },
  {
   "cell_type": "code",
   "execution_count": 58,
   "id": "34d9c3b2",
   "metadata": {},
   "outputs": [
    {
     "data": {
      "text/html": [
       "<div>\n",
       "<style scoped>\n",
       "    .dataframe tbody tr th:only-of-type {\n",
       "        vertical-align: middle;\n",
       "    }\n",
       "\n",
       "    .dataframe tbody tr th {\n",
       "        vertical-align: top;\n",
       "    }\n",
       "\n",
       "    .dataframe thead th {\n",
       "        text-align: right;\n",
       "    }\n",
       "</style>\n",
       "<table border=\"1\" class=\"dataframe\">\n",
       "  <thead>\n",
       "    <tr style=\"text-align: right;\">\n",
       "      <th></th>\n",
       "      <th>_Negative</th>\n",
       "    </tr>\n",
       "    <tr>\n",
       "      <th>date</th>\n",
       "      <th></th>\n",
       "    </tr>\n",
       "  </thead>\n",
       "  <tbody>\n",
       "    <tr>\n",
       "      <th>2009-04-06</th>\n",
       "      <td>633</td>\n",
       "    </tr>\n",
       "    <tr>\n",
       "      <th>2009-04-07</th>\n",
       "      <td>3120</td>\n",
       "    </tr>\n",
       "    <tr>\n",
       "      <th>2009-04-17</th>\n",
       "      <td>491</td>\n",
       "    </tr>\n",
       "    <tr>\n",
       "      <th>2009-04-18</th>\n",
       "      <td>3711</td>\n",
       "    </tr>\n",
       "    <tr>\n",
       "      <th>2009-04-19</th>\n",
       "      <td>4427</td>\n",
       "    </tr>\n",
       "  </tbody>\n",
       "</table>\n",
       "</div>"
      ],
      "text/plain": [
       "            _Negative\n",
       "date                 \n",
       "2009-04-06        633\n",
       "2009-04-07       3120\n",
       "2009-04-17        491\n",
       "2009-04-18       3711\n",
       "2009-04-19       4427"
      ]
     },
     "execution_count": 58,
     "metadata": {},
     "output_type": "execute_result"
    }
   ],
   "source": [
    "df2=df.query(\"_Negative==1\")\n",
    "df2 = df2[['date','_Negative']]\n",
    "df2['date'] = pd.to_datetime(df2['date'])\n",
    "tweets_per_day_negative = df2.groupby(df2['date'].dt.date)['_Negative'].count()\n",
    "tweets_per_day_negative = pd.DataFrame(tweets_per_day_negative).copy()\n",
    "tweets_per_day_negative.head()"
   ]
  },
  {
   "cell_type": "code",
   "execution_count": 59,
   "id": "6f39d7d7",
   "metadata": {},
   "outputs": [],
   "source": [
    "df3=df.query(\"_Neutral==1\")\n",
    "df3 = df3[['date','_Neutral']]"
   ]
  },
  {
   "cell_type": "code",
   "execution_count": 60,
   "id": "f079cb55",
   "metadata": {},
   "outputs": [
    {
     "data": {
      "text/html": [
       "<div>\n",
       "<style scoped>\n",
       "    .dataframe tbody tr th:only-of-type {\n",
       "        vertical-align: middle;\n",
       "    }\n",
       "\n",
       "    .dataframe tbody tr th {\n",
       "        vertical-align: top;\n",
       "    }\n",
       "\n",
       "    .dataframe thead th {\n",
       "        text-align: right;\n",
       "    }\n",
       "</style>\n",
       "<table border=\"1\" class=\"dataframe\">\n",
       "  <thead>\n",
       "    <tr style=\"text-align: right;\">\n",
       "      <th></th>\n",
       "      <th>_Neutral</th>\n",
       "    </tr>\n",
       "    <tr>\n",
       "      <th>date</th>\n",
       "      <th></th>\n",
       "    </tr>\n",
       "  </thead>\n",
       "  <tbody>\n",
       "    <tr>\n",
       "      <th>2009-04-06</th>\n",
       "      <td>1422</td>\n",
       "    </tr>\n",
       "    <tr>\n",
       "      <th>2009-04-07</th>\n",
       "      <td>7305</td>\n",
       "    </tr>\n",
       "    <tr>\n",
       "      <th>2009-04-17</th>\n",
       "      <td>1281</td>\n",
       "    </tr>\n",
       "    <tr>\n",
       "      <th>2009-04-18</th>\n",
       "      <td>9357</td>\n",
       "    </tr>\n",
       "    <tr>\n",
       "      <th>2009-04-19</th>\n",
       "      <td>11952</td>\n",
       "    </tr>\n",
       "  </tbody>\n",
       "</table>\n",
       "</div>"
      ],
      "text/plain": [
       "            _Neutral\n",
       "date                \n",
       "2009-04-06      1422\n",
       "2009-04-07      7305\n",
       "2009-04-17      1281\n",
       "2009-04-18      9357\n",
       "2009-04-19     11952"
      ]
     },
     "execution_count": 60,
     "metadata": {},
     "output_type": "execute_result"
    }
   ],
   "source": [
    "df3['date'] = pd.to_datetime(df3['date'])\n",
    "tweets_per_day_neutral = df3.groupby(df3['date'].dt.date)['_Neutral'].count()\n",
    "tweets_per_day_neutral = pd.DataFrame(tweets_per_day_neutral).copy()\n",
    "tweets_per_day_neutral.head()"
   ]
  },
  {
   "cell_type": "code",
   "execution_count": 61,
   "id": "d565f33b",
   "metadata": {},
   "outputs": [
    {
     "data": {
      "image/png": "[encoded data removed]",
      "text/plain": [
       "<Figure size 640x480 with 1 Axes>"
      ]
     },
     "metadata": {},
     "output_type": "display_data"
    }
   ],
   "source": [
    "sns.set()\n",
    "\n",
    "plt.ylabel('Positive tweets')\n",
    "plt.xlabel('Date')\n",
    "plt.xticks(rotation=45)\n",
    "plt.plot(tweets_per_day.index, tweets_per_day['_Positive'], label = 'Positive', color = \"Green\" )\n",
    "plt.plot(tweets_per_day_negative.index, tweets_per_day_negative['_Negative'], color = \"red\",label = 'Negative')\n",
    "plt.plot(tweets_per_day_neutral.index, tweets_per_day_neutral['_Neutral'], label = 'Neutral', color = \"black\" )\n",
    "plt.show()"
   ]
  },
  {
   "cell_type": "markdown",
   "id": "34ad37a8",
   "metadata": {},
   "source": [
    "## Next, I looked at the forecasts for 7,30,90 days in 3 other Jupiter notebooks: Keras, Arima and Forcast, which I also added to the GIT repository. Sorry for the inconvenience."
   ]
  },
  {
   "cell_type": "code",
   "execution_count": null,
   "id": "d3d73cbd",
   "metadata": {},
   "outputs": [],
   "source": []
  },
  {
   "cell_type": "code",
   "execution_count": null,
   "id": "39b4ea7c",
   "metadata": {},
   "outputs": [],
   "source": []
  },
  {
   "cell_type": "code",
   "execution_count": null,
   "id": "e22afebc",
   "metadata": {},
   "outputs": [],
   "source": []
  },
  {
   "cell_type": "code",
   "execution_count": null,
   "id": "b2f87ca0",
   "metadata": {},
   "outputs": [],
   "source": []
  },
  {
   "cell_type": "code",
   "execution_count": null,
   "id": "5ef11302",
   "metadata": {},
   "outputs": [],
   "source": []
  }
 ],
 "metadata": {
  "kernelspec": {
   "display_name": "Python 3 (ipykernel)",
   "language": "python",
   "name": "python3"
  },
  "language_info": {
   "codemirror_mode": {
    "name": "ipython",
    "version": 3
   },
   "file_extension": ".py",
   "mimetype": "text/x-python",
   "name": "python",
   "nbconvert_exporter": "python",
   "pygments_lexer": "ipython3",
   "version": "3.10.11"
  }
 },
 "nbformat": 4,
 "nbformat_minor": 5
}
